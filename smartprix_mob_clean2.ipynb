{
 "cells": [
  {
   "cell_type": "code",
   "execution_count": 1,
   "id": "d48025b4",
   "metadata": {},
   "outputs": [],
   "source": [
    "import pandas as pd\n",
    "import numpy as np\n",
    "import seaborn as sns\n",
    "import matplotlib.pyplot as plt"
   ]
  },
  {
   "cell_type": "code",
   "execution_count": 2,
   "id": "1947c312",
   "metadata": {},
   "outputs": [],
   "source": [
    "pd.set_option('display.max_columns',None)"
   ]
  },
  {
   "cell_type": "code",
   "execution_count": 3,
   "id": "5085746e",
   "metadata": {},
   "outputs": [],
   "source": [
    "df = pd.read_csv(\"smartphone_cleaned_v2.csv\")"
   ]
  },
  {
   "cell_type": "code",
   "execution_count": 4,
   "id": "58496829",
   "metadata": {},
   "outputs": [],
   "source": [
    "df.drop(\"index\",axis=1,inplace=True)"
   ]
  },
  {
   "cell_type": "code",
   "execution_count": 5,
   "id": "8218b539",
   "metadata": {},
   "outputs": [
    {
     "data": {
      "text/html": [
       "<div>\n",
       "<style scoped>\n",
       "    .dataframe tbody tr th:only-of-type {\n",
       "        vertical-align: middle;\n",
       "    }\n",
       "\n",
       "    .dataframe tbody tr th {\n",
       "        vertical-align: top;\n",
       "    }\n",
       "\n",
       "    .dataframe thead th {\n",
       "        text-align: right;\n",
       "    }\n",
       "</style>\n",
       "<table border=\"1\" class=\"dataframe\">\n",
       "  <thead>\n",
       "    <tr style=\"text-align: right;\">\n",
       "      <th></th>\n",
       "      <th>brand</th>\n",
       "      <th>name</th>\n",
       "      <th>price</th>\n",
       "      <th>rating</th>\n",
       "      <th>has_5g</th>\n",
       "      <th>has_nfc</th>\n",
       "      <th>has_ir_blaster</th>\n",
       "      <th>processor_brand</th>\n",
       "      <th>processor_name</th>\n",
       "      <th>num_cores</th>\n",
       "      <th>processor_speed</th>\n",
       "      <th>Ram (GB)</th>\n",
       "      <th>Rom (GB)</th>\n",
       "      <th>battery_capacity</th>\n",
       "      <th>fast_charging</th>\n",
       "      <th>display_size</th>\n",
       "      <th>display_width</th>\n",
       "      <th>display_height</th>\n",
       "      <th>refresh_rate</th>\n",
       "      <th>num_rare_cameras</th>\n",
       "      <th>num_front_cameras</th>\n",
       "      <th>primary_rare_camera</th>\n",
       "      <th>primary_front_camera</th>\n",
       "      <th>os</th>\n",
       "      <th>extended_memory (GB)</th>\n",
       "    </tr>\n",
       "  </thead>\n",
       "  <tbody>\n",
       "    <tr>\n",
       "      <th>0</th>\n",
       "      <td>xiaomi</td>\n",
       "      <td>xiaomi redmi 12 5g</td>\n",
       "      <td>11999</td>\n",
       "      <td>75.0</td>\n",
       "      <td>True</td>\n",
       "      <td>False</td>\n",
       "      <td>True</td>\n",
       "      <td>snapdragon</td>\n",
       "      <td>snapdragon 4 gen2</td>\n",
       "      <td>8</td>\n",
       "      <td>2.20</td>\n",
       "      <td>4.0</td>\n",
       "      <td>128.0</td>\n",
       "      <td>5000.0</td>\n",
       "      <td>18.0</td>\n",
       "      <td>6.79</td>\n",
       "      <td>1080.0</td>\n",
       "      <td>2460.0</td>\n",
       "      <td>90.0</td>\n",
       "      <td>2</td>\n",
       "      <td>1</td>\n",
       "      <td>50.0</td>\n",
       "      <td>8.0</td>\n",
       "      <td>android</td>\n",
       "      <td>1024.0</td>\n",
       "    </tr>\n",
       "    <tr>\n",
       "      <th>1</th>\n",
       "      <td>oneplus</td>\n",
       "      <td>oneplus nord ce 3 lite 5g</td>\n",
       "      <td>19999</td>\n",
       "      <td>85.0</td>\n",
       "      <td>True</td>\n",
       "      <td>False</td>\n",
       "      <td>False</td>\n",
       "      <td>snapdragon</td>\n",
       "      <td>snapdragon 695 5g</td>\n",
       "      <td>8</td>\n",
       "      <td>2.20</td>\n",
       "      <td>8.0</td>\n",
       "      <td>128.0</td>\n",
       "      <td>5000.0</td>\n",
       "      <td>67.0</td>\n",
       "      <td>6.72</td>\n",
       "      <td>1080.0</td>\n",
       "      <td>2400.0</td>\n",
       "      <td>120.0</td>\n",
       "      <td>3</td>\n",
       "      <td>1</td>\n",
       "      <td>108.0</td>\n",
       "      <td>16.0</td>\n",
       "      <td>android</td>\n",
       "      <td>1024.0</td>\n",
       "    </tr>\n",
       "    <tr>\n",
       "      <th>2</th>\n",
       "      <td>realme</td>\n",
       "      <td>realme c53</td>\n",
       "      <td>9999</td>\n",
       "      <td>75.0</td>\n",
       "      <td>False</td>\n",
       "      <td>False</td>\n",
       "      <td>False</td>\n",
       "      <td>tiger</td>\n",
       "      <td>tiger t612</td>\n",
       "      <td>8</td>\n",
       "      <td>1.82</td>\n",
       "      <td>4.0</td>\n",
       "      <td>128.0</td>\n",
       "      <td>5000.0</td>\n",
       "      <td>18.0</td>\n",
       "      <td>6.74</td>\n",
       "      <td>1080.0</td>\n",
       "      <td>2400.0</td>\n",
       "      <td>90.0</td>\n",
       "      <td>2</td>\n",
       "      <td>1</td>\n",
       "      <td>108.0</td>\n",
       "      <td>8.0</td>\n",
       "      <td>android</td>\n",
       "      <td>2048.0</td>\n",
       "    </tr>\n",
       "    <tr>\n",
       "      <th>3</th>\n",
       "      <td>vivo</td>\n",
       "      <td>vivo t2x 5g (6gb ram + 128gb)</td>\n",
       "      <td>13999</td>\n",
       "      <td>78.0</td>\n",
       "      <td>True</td>\n",
       "      <td>False</td>\n",
       "      <td>False</td>\n",
       "      <td>dimensity</td>\n",
       "      <td>dimensity 6020</td>\n",
       "      <td>8</td>\n",
       "      <td>2.20</td>\n",
       "      <td>6.0</td>\n",
       "      <td>128.0</td>\n",
       "      <td>5000.0</td>\n",
       "      <td>18.0</td>\n",
       "      <td>6.58</td>\n",
       "      <td>1080.0</td>\n",
       "      <td>2408.0</td>\n",
       "      <td>60.0</td>\n",
       "      <td>2</td>\n",
       "      <td>1</td>\n",
       "      <td>50.0</td>\n",
       "      <td>8.0</td>\n",
       "      <td>android</td>\n",
       "      <td>1024.0</td>\n",
       "    </tr>\n",
       "    <tr>\n",
       "      <th>4</th>\n",
       "      <td>infinix</td>\n",
       "      <td>infinix gt 10 pro</td>\n",
       "      <td>26999</td>\n",
       "      <td>88.0</td>\n",
       "      <td>True</td>\n",
       "      <td>False</td>\n",
       "      <td>False</td>\n",
       "      <td>dimensity</td>\n",
       "      <td>dimensity  8050</td>\n",
       "      <td>8</td>\n",
       "      <td>3.00</td>\n",
       "      <td>8.0</td>\n",
       "      <td>256.0</td>\n",
       "      <td>5000.0</td>\n",
       "      <td>45.0</td>\n",
       "      <td>6.67</td>\n",
       "      <td>1080.0</td>\n",
       "      <td>2460.0</td>\n",
       "      <td>120.0</td>\n",
       "      <td>3</td>\n",
       "      <td>1</td>\n",
       "      <td>108.0</td>\n",
       "      <td>32.0</td>\n",
       "      <td>android</td>\n",
       "      <td>1024.0</td>\n",
       "    </tr>\n",
       "  </tbody>\n",
       "</table>\n",
       "</div>"
      ],
      "text/plain": [
       "     brand                           name  price  rating  has_5g  has_nfc  \\\n",
       "0   xiaomi             xiaomi redmi 12 5g  11999    75.0    True    False   \n",
       "1  oneplus      oneplus nord ce 3 lite 5g  19999    85.0    True    False   \n",
       "2   realme                     realme c53   9999    75.0   False    False   \n",
       "3     vivo  vivo t2x 5g (6gb ram + 128gb)  13999    78.0    True    False   \n",
       "4  infinix              infinix gt 10 pro  26999    88.0    True    False   \n",
       "\n",
       "   has_ir_blaster processor_brand     processor_name  num_cores  \\\n",
       "0            True      snapdragon  snapdragon 4 gen2          8   \n",
       "1           False      snapdragon  snapdragon 695 5g          8   \n",
       "2           False           tiger         tiger t612          8   \n",
       "3           False       dimensity     dimensity 6020          8   \n",
       "4           False       dimensity    dimensity  8050          8   \n",
       "\n",
       "   processor_speed  Ram (GB)  Rom (GB)  battery_capacity  fast_charging  \\\n",
       "0             2.20       4.0     128.0            5000.0           18.0   \n",
       "1             2.20       8.0     128.0            5000.0           67.0   \n",
       "2             1.82       4.0     128.0            5000.0           18.0   \n",
       "3             2.20       6.0     128.0            5000.0           18.0   \n",
       "4             3.00       8.0     256.0            5000.0           45.0   \n",
       "\n",
       "   display_size  display_width  display_height  refresh_rate  \\\n",
       "0          6.79         1080.0          2460.0          90.0   \n",
       "1          6.72         1080.0          2400.0         120.0   \n",
       "2          6.74         1080.0          2400.0          90.0   \n",
       "3          6.58         1080.0          2408.0          60.0   \n",
       "4          6.67         1080.0          2460.0         120.0   \n",
       "\n",
       "   num_rare_cameras num_front_cameras  primary_rare_camera  \\\n",
       "0                 2                 1                 50.0   \n",
       "1                 3                 1                108.0   \n",
       "2                 2                 1                108.0   \n",
       "3                 2                 1                 50.0   \n",
       "4                 3                 1                108.0   \n",
       "\n",
       "   primary_front_camera       os  extended_memory (GB)  \n",
       "0                   8.0  android                1024.0  \n",
       "1                  16.0  android                1024.0  \n",
       "2                   8.0  android                2048.0  \n",
       "3                   8.0  android                1024.0  \n",
       "4                  32.0  android                1024.0  "
      ]
     },
     "execution_count": 5,
     "metadata": {},
     "output_type": "execute_result"
    }
   ],
   "source": [
    "df.head()"
   ]
  },
  {
   "cell_type": "code",
   "execution_count": 6,
   "id": "8331ad1c",
   "metadata": {},
   "outputs": [
    {
     "data": {
      "text/plain": [
       "(942, 25)"
      ]
     },
     "execution_count": 6,
     "metadata": {},
     "output_type": "execute_result"
    }
   ],
   "source": [
    "df.shape"
   ]
  },
  {
   "cell_type": "code",
   "execution_count": 7,
   "id": "a65d7eba",
   "metadata": {},
   "outputs": [],
   "source": [
    "df1 = df.copy()"
   ]
  },
  {
   "cell_type": "markdown",
   "id": "b9548cca",
   "metadata": {},
   "source": [
    "df1.info()"
   ]
  },
  {
   "cell_type": "code",
   "execution_count": 8,
   "id": "94c1f019",
   "metadata": {},
   "outputs": [
    {
     "data": {
      "text/plain": [
       "brand                     0\n",
       "name                      0\n",
       "price                     0\n",
       "rating                   93\n",
       "has_5g                    0\n",
       "has_nfc                   0\n",
       "has_ir_blaster            0\n",
       "processor_brand           0\n",
       "processor_name           11\n",
       "num_cores                 0\n",
       "processor_speed          76\n",
       "Ram (GB)                  8\n",
       "Rom (GB)                  0\n",
       "battery_capacity          0\n",
       "fast_charging           127\n",
       "display_size              0\n",
       "display_width             0\n",
       "display_height            0\n",
       "refresh_rate              0\n",
       "num_rare_cameras          0\n",
       "num_front_cameras         0\n",
       "primary_rare_camera       0\n",
       "primary_front_camera      2\n",
       "os                        0\n",
       "extended_memory (GB)    348\n",
       "dtype: int64"
      ]
     },
     "execution_count": 8,
     "metadata": {},
     "output_type": "execute_result"
    }
   ],
   "source": [
    "df1.isnull().sum()"
   ]
  },
  {
   "cell_type": "code",
   "execution_count": 9,
   "id": "e4f68cd9",
   "metadata": {},
   "outputs": [
    {
     "data": {
      "text/plain": [
       "samsung      136\n",
       "xiaomi       128\n",
       "vivo         109\n",
       "realme        97\n",
       "oppo          59\n",
       "oneplus       53\n",
       "motorola      52\n",
       "apple         39\n",
       "poco          34\n",
       "tecno         32\n",
       "iqoo          29\n",
       "infinix       28\n",
       "nokia         20\n",
       "honor         19\n",
       "huawei        12\n",
       "google        11\n",
       "sony          10\n",
       "nubia         10\n",
       "asus           8\n",
       "itel           8\n",
       "lava           7\n",
       "ikall          5\n",
       "oukitel        4\n",
       "jio            3\n",
       "gionee         3\n",
       "nothing        3\n",
       "meizu          3\n",
       "redmi          3\n",
       "ulefone        2\n",
       "blackview      2\n",
       "lg             2\n",
       "duoqin         2\n",
       "htc            2\n",
       "letv           2\n",
       "zte            1\n",
       "leeco          1\n",
       "blu            1\n",
       "unihertz       1\n",
       "micromax       1\n",
       "Name: brand, dtype: int64"
      ]
     },
     "execution_count": 9,
     "metadata": {},
     "output_type": "execute_result"
    }
   ],
   "source": [
    "# brand name\n",
    "df1['brand'].value_counts()"
   ]
  },
  {
   "cell_type": "code",
   "execution_count": 10,
   "id": "8b57dfbd",
   "metadata": {},
   "outputs": [
    {
     "data": {
      "text/plain": [
       "<Axes: >"
      ]
     },
     "execution_count": 10,
     "metadata": {},
     "output_type": "execute_result"
    },
    {
     "data": {
      "image/png": "[encoded data removed]",
      "text/plain": [
       "<Figure size 640x480 with 1 Axes>"
      ]
     },
     "metadata": {},
     "output_type": "display_data"
    }
   ],
   "source": [
    "# brand name\n",
    "df1['brand'].value_counts().head(10).plot(kind=\"bar\")"
   ]
  },
  {
   "cell_type": "markdown",
   "id": "8cf0bcdb",
   "metadata": {},
   "source": [
    "### price col"
   ]
  },
  {
   "cell_type": "code",
   "execution_count": 11,
   "id": "85fe7d52",
   "metadata": {},
   "outputs": [
    {
     "data": {
      "text/plain": [
       "count       942.000000\n",
       "mean      34198.933121\n",
       "std       35044.109506\n",
       "min        4499.000000\n",
       "25%       13999.000000\n",
       "50%       22490.000000\n",
       "75%       39999.000000\n",
       "max      480000.000000\n",
       "Name: price, dtype: float64"
      ]
     },
     "execution_count": 11,
     "metadata": {},
     "output_type": "execute_result"
    }
   ],
   "source": [
    "df1.price.describe()"
   ]
  },
  {
   "cell_type": "code",
   "execution_count": 12,
   "id": "d4c134bc",
   "metadata": {},
   "outputs": [
    {
     "data": {
      "text/plain": [
       "<Axes: xlabel='price', ylabel='Count'>"
      ]
     },
     "execution_count": 12,
     "metadata": {},
     "output_type": "execute_result"
    },
    {
     "data": {
      "image/png": "[encoded data removed]",
      "text/plain": [
       "<Figure size 640x480 with 1 Axes>"
      ]
     },
     "metadata": {},
     "output_type": "display_data"
    }
   ],
   "source": [
    "sns.histplot(df1[\"price\"],kde=True)"
   ]
  },
  {
   "cell_type": "code",
   "execution_count": 13,
   "id": "24db09d3",
   "metadata": {},
   "outputs": [
    {
     "data": {
      "text/plain": [
       "3.881488934536949"
      ]
     },
     "execution_count": 13,
     "metadata": {},
     "output_type": "execute_result"
    }
   ],
   "source": [
    "df1['price'].skew()"
   ]
  },
  {
   "cell_type": "code",
   "execution_count": 14,
   "id": "6e457346",
   "metadata": {},
   "outputs": [
    {
     "data": {
      "text/plain": [
       "<Axes: >"
      ]
     },
     "execution_count": 14,
     "metadata": {},
     "output_type": "execute_result"
    },
    {
     "data": {
      "image/png": "[encoded data removed]",
      "text/plain": [
       "<Figure size 640x480 with 1 Axes>"
      ]
     },
     "metadata": {},
     "output_type": "display_data"
    }
   ],
   "source": [
    "sns.boxplot(df1[df1['price']<200000]['price'])"
   ]
  },
  {
   "cell_type": "code",
   "execution_count": 15,
   "id": "795fb1da",
   "metadata": {},
   "outputs": [
    {
     "data": {
      "text/html": [
       "<div>\n",
       "<style scoped>\n",
       "    .dataframe tbody tr th:only-of-type {\n",
       "        vertical-align: middle;\n",
       "    }\n",
       "\n",
       "    .dataframe tbody tr th {\n",
       "        vertical-align: top;\n",
       "    }\n",
       "\n",
       "    .dataframe thead th {\n",
       "        text-align: right;\n",
       "    }\n",
       "</style>\n",
       "<table border=\"1\" class=\"dataframe\">\n",
       "  <thead>\n",
       "    <tr style=\"text-align: right;\">\n",
       "      <th></th>\n",
       "      <th>brand</th>\n",
       "      <th>name</th>\n",
       "      <th>price</th>\n",
       "      <th>rating</th>\n",
       "      <th>has_5g</th>\n",
       "      <th>has_nfc</th>\n",
       "      <th>has_ir_blaster</th>\n",
       "      <th>processor_brand</th>\n",
       "      <th>processor_name</th>\n",
       "      <th>num_cores</th>\n",
       "      <th>processor_speed</th>\n",
       "      <th>Ram (GB)</th>\n",
       "      <th>Rom (GB)</th>\n",
       "      <th>battery_capacity</th>\n",
       "      <th>fast_charging</th>\n",
       "      <th>display_size</th>\n",
       "      <th>display_width</th>\n",
       "      <th>display_height</th>\n",
       "      <th>refresh_rate</th>\n",
       "      <th>num_rare_cameras</th>\n",
       "      <th>num_front_cameras</th>\n",
       "      <th>primary_rare_camera</th>\n",
       "      <th>primary_front_camera</th>\n",
       "      <th>os</th>\n",
       "      <th>extended_memory (GB)</th>\n",
       "    </tr>\n",
       "  </thead>\n",
       "  <tbody>\n",
       "    <tr>\n",
       "      <th>559</th>\n",
       "      <td>huawei</td>\n",
       "      <td>huawei mate 30 rs porsche design</td>\n",
       "      <td>214990</td>\n",
       "      <td>NaN</td>\n",
       "      <td>True</td>\n",
       "      <td>True</td>\n",
       "      <td>True</td>\n",
       "      <td>kirin</td>\n",
       "      <td>kirin  990</td>\n",
       "      <td>8</td>\n",
       "      <td>2.86</td>\n",
       "      <td>12.0</td>\n",
       "      <td>512.0</td>\n",
       "      <td>4500.0</td>\n",
       "      <td>NaN</td>\n",
       "      <td>6.53</td>\n",
       "      <td>1176.0</td>\n",
       "      <td>2400.0</td>\n",
       "      <td>60.0</td>\n",
       "      <td>4</td>\n",
       "      <td>2</td>\n",
       "      <td>40.0</td>\n",
       "      <td>32.0</td>\n",
       "      <td>android</td>\n",
       "      <td>256.0</td>\n",
       "    </tr>\n",
       "    <tr>\n",
       "      <th>561</th>\n",
       "      <td>xiaomi</td>\n",
       "      <td>xiaomi redmi k20 pro signature edition</td>\n",
       "      <td>480000</td>\n",
       "      <td>88.0</td>\n",
       "      <td>False</td>\n",
       "      <td>True</td>\n",
       "      <td>False</td>\n",
       "      <td>snapdragon</td>\n",
       "      <td>snapdragon  855</td>\n",
       "      <td>8</td>\n",
       "      <td>2.80</td>\n",
       "      <td>8.0</td>\n",
       "      <td>256.0</td>\n",
       "      <td>4000.0</td>\n",
       "      <td>27.0</td>\n",
       "      <td>6.39</td>\n",
       "      <td>1080.0</td>\n",
       "      <td>2340.0</td>\n",
       "      <td>60.0</td>\n",
       "      <td>3</td>\n",
       "      <td>1</td>\n",
       "      <td>48.0</td>\n",
       "      <td>20.0</td>\n",
       "      <td>android</td>\n",
       "      <td>0.0</td>\n",
       "    </tr>\n",
       "  </tbody>\n",
       "</table>\n",
       "</div>"
      ],
      "text/plain": [
       "      brand                                    name   price  rating  has_5g  \\\n",
       "559  huawei        huawei mate 30 rs porsche design  214990     NaN    True   \n",
       "561  xiaomi  xiaomi redmi k20 pro signature edition  480000    88.0   False   \n",
       "\n",
       "     has_nfc  has_ir_blaster processor_brand   processor_name  num_cores  \\\n",
       "559     True            True           kirin       kirin  990          8   \n",
       "561     True           False      snapdragon  snapdragon  855          8   \n",
       "\n",
       "     processor_speed  Ram (GB)  Rom (GB)  battery_capacity  fast_charging  \\\n",
       "559             2.86      12.0     512.0            4500.0            NaN   \n",
       "561             2.80       8.0     256.0            4000.0           27.0   \n",
       "\n",
       "     display_size  display_width  display_height  refresh_rate  \\\n",
       "559          6.53         1176.0          2400.0          60.0   \n",
       "561          6.39         1080.0          2340.0          60.0   \n",
       "\n",
       "     num_rare_cameras num_front_cameras  primary_rare_camera  \\\n",
       "559                 4                 2                 40.0   \n",
       "561                 3                 1                 48.0   \n",
       "\n",
       "     primary_front_camera       os  extended_memory (GB)  \n",
       "559                  32.0  android                 256.0  \n",
       "561                  20.0  android                   0.0  "
      ]
     },
     "execution_count": 15,
     "metadata": {},
     "output_type": "execute_result"
    }
   ],
   "source": [
    "df1[df1['price']>200000]"
   ]
  },
  {
   "cell_type": "code",
   "execution_count": 16,
   "id": "a17a2841",
   "metadata": {},
   "outputs": [
    {
     "data": {
      "text/plain": [
       "0"
      ]
     },
     "execution_count": 16,
     "metadata": {},
     "output_type": "execute_result"
    }
   ],
   "source": [
    "df1['price'].isnull().sum()"
   ]
  },
  {
   "cell_type": "markdown",
   "id": "5d06f711",
   "metadata": {},
   "source": [
    "### rating col"
   ]
  },
  {
   "cell_type": "code",
   "execution_count": 17,
   "id": "f080b001",
   "metadata": {},
   "outputs": [
    {
     "data": {
      "text/plain": [
       "<Axes: xlabel='rating', ylabel='Count'>"
      ]
     },
     "execution_count": 17,
     "metadata": {},
     "output_type": "execute_result"
    },
    {
     "data": {
      "image/png": "[encoded data removed]",
      "text/plain": [
       "<Figure size 640x480 with 1 Axes>"
      ]
     },
     "metadata": {},
     "output_type": "display_data"
    }
   ],
   "source": [
    "sns.histplot(df1[\"rating\"],kde=True)"
   ]
  },
  {
   "cell_type": "code",
   "execution_count": 18,
   "id": "48f68195",
   "metadata": {},
   "outputs": [
    {
     "data": {
      "text/plain": [
       "count    849.000000\n",
       "mean      79.552415\n",
       "std        7.028406\n",
       "min       60.000000\n",
       "25%       75.000000\n",
       "50%       81.000000\n",
       "75%       85.000000\n",
       "max       89.000000\n",
       "Name: rating, dtype: float64"
      ]
     },
     "execution_count": 18,
     "metadata": {},
     "output_type": "execute_result"
    }
   ],
   "source": [
    "df1.rating.describe()"
   ]
  },
  {
   "cell_type": "code",
   "execution_count": 19,
   "id": "33d9fa14",
   "metadata": {},
   "outputs": [
    {
     "data": {
      "text/plain": [
       "-0.8194784101472339"
      ]
     },
     "execution_count": 19,
     "metadata": {},
     "output_type": "execute_result"
    }
   ],
   "source": [
    "df1.rating.skew()"
   ]
  },
  {
   "cell_type": "code",
   "execution_count": 20,
   "id": "82919de0",
   "metadata": {},
   "outputs": [
    {
     "data": {
      "text/plain": [
       "<Axes: >"
      ]
     },
     "execution_count": 20,
     "metadata": {},
     "output_type": "execute_result"
    },
    {
     "data": {
      "image/png": "[encoded data removed]",
      "text/plain": [
       "<Figure size 640x480 with 1 Axes>"
      ]
     },
     "metadata": {},
     "output_type": "display_data"
    }
   ],
   "source": [
    "sns.boxplot(df1['rating'])"
   ]
  },
  {
   "cell_type": "code",
   "execution_count": 21,
   "id": "b29ee85a",
   "metadata": {},
   "outputs": [
    {
     "data": {
      "text/plain": [
       "93"
      ]
     },
     "execution_count": 21,
     "metadata": {},
     "output_type": "execute_result"
    }
   ],
   "source": [
    "df1['rating'].isnull().sum()"
   ]
  },
  {
   "cell_type": "code",
   "execution_count": 22,
   "id": "fc368aeb",
   "metadata": {},
   "outputs": [
    {
     "data": {
      "text/plain": [
       "True     633\n",
       "False    309\n",
       "Name: has_5g, dtype: int64"
      ]
     },
     "execution_count": 22,
     "metadata": {},
     "output_type": "execute_result"
    }
   ],
   "source": [
    "#5G\n",
    "df1.has_5g.value_counts()"
   ]
  },
  {
   "cell_type": "code",
   "execution_count": 23,
   "id": "e3ebbcc4",
   "metadata": {},
   "outputs": [
    {
     "data": {
      "text/plain": [
       "<Axes: xlabel='has_5g', ylabel='count'>"
      ]
     },
     "execution_count": 23,
     "metadata": {},
     "output_type": "execute_result"
    },
    {
     "data": {
      "image/png": "[encoded data removed]",
      "text/plain": [
       "<Figure size 640x480 with 1 Axes>"
      ]
     },
     "metadata": {},
     "output_type": "display_data"
    }
   ],
   "source": [
    "sns.countplot(x=df1.has_5g )"
   ]
  },
  {
   "cell_type": "code",
   "execution_count": 24,
   "id": "9a8ca463",
   "metadata": {},
   "outputs": [
    {
     "data": {
      "text/plain": [
       "False    492\n",
       "True     450\n",
       "Name: has_nfc, dtype: int64"
      ]
     },
     "execution_count": 24,
     "metadata": {},
     "output_type": "execute_result"
    }
   ],
   "source": [
    "df1.has_nfc.value_counts()"
   ]
  },
  {
   "cell_type": "code",
   "execution_count": 25,
   "id": "a93021a9",
   "metadata": {},
   "outputs": [
    {
     "data": {
      "text/plain": [
       "<Axes: xlabel='has_nfc', ylabel='count'>"
      ]
     },
     "execution_count": 25,
     "metadata": {},
     "output_type": "execute_result"
    },
    {
     "data": {
      "image/png": "[encoded data removed]",
      "text/plain": [
       "<Figure size 640x480 with 1 Axes>"
      ]
     },
     "metadata": {},
     "output_type": "display_data"
    }
   ],
   "source": [
    "sns.countplot(x=df1.has_nfc)"
   ]
  },
  {
   "cell_type": "code",
   "execution_count": 26,
   "id": "e70bb091",
   "metadata": {},
   "outputs": [
    {
     "data": {
      "text/plain": [
       "False    755\n",
       "True     187\n",
       "Name: has_ir_blaster, dtype: int64"
      ]
     },
     "execution_count": 26,
     "metadata": {},
     "output_type": "execute_result"
    }
   ],
   "source": [
    "df1.has_ir_blaster.value_counts()"
   ]
  },
  {
   "cell_type": "code",
   "execution_count": 27,
   "id": "56bf5194",
   "metadata": {},
   "outputs": [
    {
     "data": {
      "text/plain": [
       "<Axes: xlabel='has_ir_blaster', ylabel='count'>"
      ]
     },
     "execution_count": 27,
     "metadata": {},
     "output_type": "execute_result"
    },
    {
     "data": {
      "image/png": "[encoded data removed]",
      "text/plain": [
       "<Figure size 640x480 with 1 Axes>"
      ]
     },
     "metadata": {},
     "output_type": "display_data"
    }
   ],
   "source": [
    "sns.countplot(x=df1.has_ir_blaster)"
   ]
  },
  {
   "cell_type": "code",
   "execution_count": 28,
   "id": "cc76fdde",
   "metadata": {},
   "outputs": [
    {
     "data": {
      "text/plain": [
       "snapdragon    402\n",
       "dimensity     218\n",
       "helio         144\n",
       "exynos         60\n",
       "bionic         38\n",
       "unisoc         33\n",
       "tiger          21\n",
       "-              11\n",
       "google          9\n",
       "kirin           3\n",
       "qualcomm        2\n",
       "fusion          1\n",
       "Name: processor_brand, dtype: int64"
      ]
     },
     "execution_count": 28,
     "metadata": {},
     "output_type": "execute_result"
    }
   ],
   "source": [
    "#processor_brand\n",
    "df1['processor_brand'].value_counts()"
   ]
  },
  {
   "cell_type": "code",
   "execution_count": 29,
   "id": "74228a54",
   "metadata": {},
   "outputs": [
    {
     "data": {
      "text/html": [
       "<div>\n",
       "<style scoped>\n",
       "    .dataframe tbody tr th:only-of-type {\n",
       "        vertical-align: middle;\n",
       "    }\n",
       "\n",
       "    .dataframe tbody tr th {\n",
       "        vertical-align: top;\n",
       "    }\n",
       "\n",
       "    .dataframe thead th {\n",
       "        text-align: right;\n",
       "    }\n",
       "</style>\n",
       "<table border=\"1\" class=\"dataframe\">\n",
       "  <thead>\n",
       "    <tr style=\"text-align: right;\">\n",
       "      <th></th>\n",
       "      <th>brand</th>\n",
       "      <th>name</th>\n",
       "      <th>price</th>\n",
       "      <th>rating</th>\n",
       "      <th>has_5g</th>\n",
       "      <th>has_nfc</th>\n",
       "      <th>has_ir_blaster</th>\n",
       "      <th>processor_brand</th>\n",
       "      <th>processor_name</th>\n",
       "      <th>num_cores</th>\n",
       "      <th>processor_speed</th>\n",
       "      <th>Ram (GB)</th>\n",
       "      <th>Rom (GB)</th>\n",
       "      <th>battery_capacity</th>\n",
       "      <th>fast_charging</th>\n",
       "      <th>display_size</th>\n",
       "      <th>display_width</th>\n",
       "      <th>display_height</th>\n",
       "      <th>refresh_rate</th>\n",
       "      <th>num_rare_cameras</th>\n",
       "      <th>num_front_cameras</th>\n",
       "      <th>primary_rare_camera</th>\n",
       "      <th>primary_front_camera</th>\n",
       "      <th>os</th>\n",
       "      <th>extended_memory (GB)</th>\n",
       "    </tr>\n",
       "  </thead>\n",
       "  <tbody>\n",
       "    <tr>\n",
       "      <th>140</th>\n",
       "      <td>jio</td>\n",
       "      <td>jio phone 3</td>\n",
       "      <td>4499</td>\n",
       "      <td>NaN</td>\n",
       "      <td>False</td>\n",
       "      <td>False</td>\n",
       "      <td>False</td>\n",
       "      <td>-</td>\n",
       "      <td>NaN</td>\n",
       "      <td>4</td>\n",
       "      <td>1.4</td>\n",
       "      <td>2.0</td>\n",
       "      <td>64.0</td>\n",
       "      <td>2800.0</td>\n",
       "      <td>NaN</td>\n",
       "      <td>5.00</td>\n",
       "      <td>720.0</td>\n",
       "      <td>1280.0</td>\n",
       "      <td>60.0</td>\n",
       "      <td>1</td>\n",
       "      <td>1</td>\n",
       "      <td>5.0</td>\n",
       "      <td>2.0</td>\n",
       "      <td>android</td>\n",
       "      <td>128.0</td>\n",
       "    </tr>\n",
       "    <tr>\n",
       "      <th>196</th>\n",
       "      <td>itel</td>\n",
       "      <td>itel s23</td>\n",
       "      <td>8999</td>\n",
       "      <td>75.0</td>\n",
       "      <td>False</td>\n",
       "      <td>False</td>\n",
       "      <td>False</td>\n",
       "      <td>-</td>\n",
       "      <td>NaN</td>\n",
       "      <td>8</td>\n",
       "      <td>1.6</td>\n",
       "      <td>8.0</td>\n",
       "      <td>128.0</td>\n",
       "      <td>5000.0</td>\n",
       "      <td>10.0</td>\n",
       "      <td>6.60</td>\n",
       "      <td>1600.0</td>\n",
       "      <td>720.0</td>\n",
       "      <td>90.0</td>\n",
       "      <td>2</td>\n",
       "      <td>1</td>\n",
       "      <td>50.0</td>\n",
       "      <td>8.0</td>\n",
       "      <td>android</td>\n",
       "      <td>512.0</td>\n",
       "    </tr>\n",
       "    <tr>\n",
       "      <th>241</th>\n",
       "      <td>ikall</td>\n",
       "      <td>ikall z19 pro</td>\n",
       "      <td>7799</td>\n",
       "      <td>60.0</td>\n",
       "      <td>False</td>\n",
       "      <td>False</td>\n",
       "      <td>False</td>\n",
       "      <td>-</td>\n",
       "      <td>NaN</td>\n",
       "      <td>4</td>\n",
       "      <td>1.6</td>\n",
       "      <td>4.0</td>\n",
       "      <td>64.0</td>\n",
       "      <td>5000.0</td>\n",
       "      <td>NaN</td>\n",
       "      <td>6.50</td>\n",
       "      <td>720.0</td>\n",
       "      <td>1600.0</td>\n",
       "      <td>60.0</td>\n",
       "      <td>1</td>\n",
       "      <td>1</td>\n",
       "      <td>13.0</td>\n",
       "      <td>8.0</td>\n",
       "      <td>android</td>\n",
       "      <td>128.0</td>\n",
       "    </tr>\n",
       "    <tr>\n",
       "      <th>243</th>\n",
       "      <td>oppo</td>\n",
       "      <td>oppo reno 11 pro</td>\n",
       "      <td>47990</td>\n",
       "      <td>81.0</td>\n",
       "      <td>True</td>\n",
       "      <td>True</td>\n",
       "      <td>False</td>\n",
       "      <td>-</td>\n",
       "      <td>NaN</td>\n",
       "      <td>8</td>\n",
       "      <td>NaN</td>\n",
       "      <td>16.0</td>\n",
       "      <td>256.0</td>\n",
       "      <td>5000.0</td>\n",
       "      <td>150.0</td>\n",
       "      <td>6.73</td>\n",
       "      <td>1080.0</td>\n",
       "      <td>2412.0</td>\n",
       "      <td>120.0</td>\n",
       "      <td>3</td>\n",
       "      <td>1</td>\n",
       "      <td>200.0</td>\n",
       "      <td>32.0</td>\n",
       "      <td>android</td>\n",
       "      <td>NaN</td>\n",
       "    </tr>\n",
       "    <tr>\n",
       "      <th>454</th>\n",
       "      <td>oppo</td>\n",
       "      <td>oppo reno 11</td>\n",
       "      <td>34990</td>\n",
       "      <td>76.0</td>\n",
       "      <td>True</td>\n",
       "      <td>True</td>\n",
       "      <td>False</td>\n",
       "      <td>-</td>\n",
       "      <td>NaN</td>\n",
       "      <td>8</td>\n",
       "      <td>NaN</td>\n",
       "      <td>8.0</td>\n",
       "      <td>256.0</td>\n",
       "      <td>5000.0</td>\n",
       "      <td>150.0</td>\n",
       "      <td>6.78</td>\n",
       "      <td>1080.0</td>\n",
       "      <td>2412.0</td>\n",
       "      <td>120.0</td>\n",
       "      <td>3</td>\n",
       "      <td>1</td>\n",
       "      <td>64.0</td>\n",
       "      <td>32.0</td>\n",
       "      <td>android</td>\n",
       "      <td>NaN</td>\n",
       "    </tr>\n",
       "    <tr>\n",
       "      <th>474</th>\n",
       "      <td>itel</td>\n",
       "      <td>itel s16 pro</td>\n",
       "      <td>6990</td>\n",
       "      <td>NaN</td>\n",
       "      <td>False</td>\n",
       "      <td>False</td>\n",
       "      <td>False</td>\n",
       "      <td>-</td>\n",
       "      <td>NaN</td>\n",
       "      <td>4</td>\n",
       "      <td>1.3</td>\n",
       "      <td>2.0</td>\n",
       "      <td>32.0</td>\n",
       "      <td>4000.0</td>\n",
       "      <td>NaN</td>\n",
       "      <td>6.60</td>\n",
       "      <td>1600.0</td>\n",
       "      <td>720.0</td>\n",
       "      <td>60.0</td>\n",
       "      <td>3</td>\n",
       "      <td>1</td>\n",
       "      <td>8.0</td>\n",
       "      <td>8.0</td>\n",
       "      <td>android</td>\n",
       "      <td>32.0</td>\n",
       "    </tr>\n",
       "    <tr>\n",
       "      <th>541</th>\n",
       "      <td>vivo</td>\n",
       "      <td>vivo v29e</td>\n",
       "      <td>24990</td>\n",
       "      <td>75.0</td>\n",
       "      <td>False</td>\n",
       "      <td>True</td>\n",
       "      <td>False</td>\n",
       "      <td>-</td>\n",
       "      <td>NaN</td>\n",
       "      <td>8</td>\n",
       "      <td>NaN</td>\n",
       "      <td>8.0</td>\n",
       "      <td>128.0</td>\n",
       "      <td>4700.0</td>\n",
       "      <td>80.0</td>\n",
       "      <td>6.73</td>\n",
       "      <td>1080.0</td>\n",
       "      <td>2400.0</td>\n",
       "      <td>120.0</td>\n",
       "      <td>3</td>\n",
       "      <td>1</td>\n",
       "      <td>64.0</td>\n",
       "      <td>32.0</td>\n",
       "      <td>android</td>\n",
       "      <td>NaN</td>\n",
       "    </tr>\n",
       "    <tr>\n",
       "      <th>543</th>\n",
       "      <td>huawei</td>\n",
       "      <td>huawei mate 60 pro</td>\n",
       "      <td>99990</td>\n",
       "      <td>76.0</td>\n",
       "      <td>True</td>\n",
       "      <td>True</td>\n",
       "      <td>False</td>\n",
       "      <td>-</td>\n",
       "      <td>NaN</td>\n",
       "      <td>8</td>\n",
       "      <td>NaN</td>\n",
       "      <td>8.0</td>\n",
       "      <td>256.0</td>\n",
       "      <td>5000.0</td>\n",
       "      <td>66.0</td>\n",
       "      <td>6.76</td>\n",
       "      <td>1440.0</td>\n",
       "      <td>3200.0</td>\n",
       "      <td>144.0</td>\n",
       "      <td>3</td>\n",
       "      <td>1</td>\n",
       "      <td>64.0</td>\n",
       "      <td>13.0</td>\n",
       "      <td>hongmeng os v4.0</td>\n",
       "      <td>0.0</td>\n",
       "    </tr>\n",
       "    <tr>\n",
       "      <th>587</th>\n",
       "      <td>motorola</td>\n",
       "      <td>motorola moto g63 5g</td>\n",
       "      <td>16990</td>\n",
       "      <td>74.0</td>\n",
       "      <td>True</td>\n",
       "      <td>False</td>\n",
       "      <td>False</td>\n",
       "      <td>-</td>\n",
       "      <td>NaN</td>\n",
       "      <td>8</td>\n",
       "      <td>NaN</td>\n",
       "      <td>6.0</td>\n",
       "      <td>128.0</td>\n",
       "      <td>5000.0</td>\n",
       "      <td>33.0</td>\n",
       "      <td>6.67</td>\n",
       "      <td>1080.0</td>\n",
       "      <td>2400.0</td>\n",
       "      <td>120.0</td>\n",
       "      <td>3</td>\n",
       "      <td>1</td>\n",
       "      <td>64.0</td>\n",
       "      <td>16.0</td>\n",
       "      <td>android</td>\n",
       "      <td>1024.0</td>\n",
       "    </tr>\n",
       "    <tr>\n",
       "      <th>634</th>\n",
       "      <td>xiaomi</td>\n",
       "      <td>xiaomi redmi 12 prime</td>\n",
       "      <td>12499</td>\n",
       "      <td>66.0</td>\n",
       "      <td>False</td>\n",
       "      <td>False</td>\n",
       "      <td>True</td>\n",
       "      <td>-</td>\n",
       "      <td>NaN</td>\n",
       "      <td>8</td>\n",
       "      <td>NaN</td>\n",
       "      <td>4.0</td>\n",
       "      <td>64.0</td>\n",
       "      <td>5000.0</td>\n",
       "      <td>18.0</td>\n",
       "      <td>6.52</td>\n",
       "      <td>1080.0</td>\n",
       "      <td>2400.0</td>\n",
       "      <td>90.0</td>\n",
       "      <td>4</td>\n",
       "      <td>1</td>\n",
       "      <td>48.0</td>\n",
       "      <td>8.0</td>\n",
       "      <td>android</td>\n",
       "      <td>512.0</td>\n",
       "    </tr>\n",
       "    <tr>\n",
       "      <th>918</th>\n",
       "      <td>ikall</td>\n",
       "      <td>ikall z19 pro ultra</td>\n",
       "      <td>8799</td>\n",
       "      <td>65.0</td>\n",
       "      <td>False</td>\n",
       "      <td>False</td>\n",
       "      <td>False</td>\n",
       "      <td>-</td>\n",
       "      <td>NaN</td>\n",
       "      <td>6</td>\n",
       "      <td>1.6</td>\n",
       "      <td>6.0</td>\n",
       "      <td>128.0</td>\n",
       "      <td>5000.0</td>\n",
       "      <td>NaN</td>\n",
       "      <td>6.50</td>\n",
       "      <td>720.0</td>\n",
       "      <td>1600.0</td>\n",
       "      <td>60.0</td>\n",
       "      <td>2</td>\n",
       "      <td>1</td>\n",
       "      <td>13.0</td>\n",
       "      <td>8.0</td>\n",
       "      <td>android</td>\n",
       "      <td>512.0</td>\n",
       "    </tr>\n",
       "  </tbody>\n",
       "</table>\n",
       "</div>"
      ],
      "text/plain": [
       "        brand                   name  price  rating  has_5g  has_nfc  \\\n",
       "140       jio            jio phone 3   4499     NaN   False    False   \n",
       "196      itel               itel s23   8999    75.0   False    False   \n",
       "241     ikall          ikall z19 pro   7799    60.0   False    False   \n",
       "243      oppo       oppo reno 11 pro  47990    81.0    True     True   \n",
       "454      oppo           oppo reno 11  34990    76.0    True     True   \n",
       "474      itel           itel s16 pro   6990     NaN   False    False   \n",
       "541      vivo              vivo v29e  24990    75.0   False     True   \n",
       "543    huawei     huawei mate 60 pro  99990    76.0    True     True   \n",
       "587  motorola   motorola moto g63 5g  16990    74.0    True    False   \n",
       "634    xiaomi  xiaomi redmi 12 prime  12499    66.0   False    False   \n",
       "918     ikall    ikall z19 pro ultra   8799    65.0   False    False   \n",
       "\n",
       "     has_ir_blaster processor_brand processor_name  num_cores  \\\n",
       "140           False               -            NaN          4   \n",
       "196           False               -            NaN          8   \n",
       "241           False               -            NaN          4   \n",
       "243           False               -            NaN          8   \n",
       "454           False               -            NaN          8   \n",
       "474           False               -            NaN          4   \n",
       "541           False               -            NaN          8   \n",
       "543           False               -            NaN          8   \n",
       "587           False               -            NaN          8   \n",
       "634            True               -            NaN          8   \n",
       "918           False               -            NaN          6   \n",
       "\n",
       "     processor_speed  Ram (GB)  Rom (GB)  battery_capacity  fast_charging  \\\n",
       "140              1.4       2.0      64.0            2800.0            NaN   \n",
       "196              1.6       8.0     128.0            5000.0           10.0   \n",
       "241              1.6       4.0      64.0            5000.0            NaN   \n",
       "243              NaN      16.0     256.0            5000.0          150.0   \n",
       "454              NaN       8.0     256.0            5000.0          150.0   \n",
       "474              1.3       2.0      32.0            4000.0            NaN   \n",
       "541              NaN       8.0     128.0            4700.0           80.0   \n",
       "543              NaN       8.0     256.0            5000.0           66.0   \n",
       "587              NaN       6.0     128.0            5000.0           33.0   \n",
       "634              NaN       4.0      64.0            5000.0           18.0   \n",
       "918              1.6       6.0     128.0            5000.0            NaN   \n",
       "\n",
       "     display_size  display_width  display_height  refresh_rate  \\\n",
       "140          5.00          720.0          1280.0          60.0   \n",
       "196          6.60         1600.0           720.0          90.0   \n",
       "241          6.50          720.0          1600.0          60.0   \n",
       "243          6.73         1080.0          2412.0         120.0   \n",
       "454          6.78         1080.0          2412.0         120.0   \n",
       "474          6.60         1600.0           720.0          60.0   \n",
       "541          6.73         1080.0          2400.0         120.0   \n",
       "543          6.76         1440.0          3200.0         144.0   \n",
       "587          6.67         1080.0          2400.0         120.0   \n",
       "634          6.52         1080.0          2400.0          90.0   \n",
       "918          6.50          720.0          1600.0          60.0   \n",
       "\n",
       "     num_rare_cameras num_front_cameras  primary_rare_camera  \\\n",
       "140                 1                 1                  5.0   \n",
       "196                 2                 1                 50.0   \n",
       "241                 1                 1                 13.0   \n",
       "243                 3                 1                200.0   \n",
       "454                 3                 1                 64.0   \n",
       "474                 3                 1                  8.0   \n",
       "541                 3                 1                 64.0   \n",
       "543                 3                 1                 64.0   \n",
       "587                 3                 1                 64.0   \n",
       "634                 4                 1                 48.0   \n",
       "918                 2                 1                 13.0   \n",
       "\n",
       "     primary_front_camera                os  extended_memory (GB)  \n",
       "140                   2.0           android                 128.0  \n",
       "196                   8.0           android                 512.0  \n",
       "241                   8.0           android                 128.0  \n",
       "243                  32.0           android                   NaN  \n",
       "454                  32.0           android                   NaN  \n",
       "474                   8.0           android                  32.0  \n",
       "541                  32.0           android                   NaN  \n",
       "543                  13.0  hongmeng os v4.0                   0.0  \n",
       "587                  16.0           android                1024.0  \n",
       "634                   8.0           android                 512.0  \n",
       "918                   8.0           android                 512.0  "
      ]
     },
     "execution_count": 29,
     "metadata": {},
     "output_type": "execute_result"
    }
   ],
   "source": [
    "df1[df1['processor_brand']==\"-\"]"
   ]
  },
  {
   "cell_type": "code",
   "execution_count": 30,
   "id": "8a72611d",
   "metadata": {},
   "outputs": [
    {
     "data": {
      "text/plain": [
       "8     878\n",
       "6      36\n",
       "4      27\n",
       "10      1\n",
       "Name: num_cores, dtype: int64"
      ]
     },
     "execution_count": 30,
     "metadata": {},
     "output_type": "execute_result"
    }
   ],
   "source": [
    "#num cores col\n",
    "df1['num_cores'].value_counts()"
   ]
  },
  {
   "cell_type": "code",
   "execution_count": 31,
   "id": "6a03b2de",
   "metadata": {},
   "outputs": [
    {
     "data": {
      "text/plain": [
       "count    866.000000\n",
       "mean       2.500092\n",
       "std        0.474613\n",
       "min        1.300000\n",
       "25%        2.200000\n",
       "50%        2.400000\n",
       "75%        2.910000\n",
       "max        3.460000\n",
       "Name: processor_speed, dtype: float64"
      ]
     },
     "execution_count": 31,
     "metadata": {},
     "output_type": "execute_result"
    }
   ],
   "source": [
    "# processor_speed col\n",
    "df1['processor_speed'].describe()"
   ]
  },
  {
   "cell_type": "code",
   "execution_count": 32,
   "id": "49eee0fc",
   "metadata": {},
   "outputs": [
    {
     "data": {
      "text/plain": [
       "<Axes: xlabel='processor_speed', ylabel='Density'>"
      ]
     },
     "execution_count": 32,
     "metadata": {},
     "output_type": "execute_result"
    },
    {
     "data": {
      "image/png": "[encoded data removed]",
      "text/plain": [
       "<Figure size 640x480 with 1 Axes>"
      ]
     },
     "metadata": {},
     "output_type": "display_data"
    }
   ],
   "source": [
    "sns.kdeplot(x=df1[\"processor_speed\"])"
   ]
  },
  {
   "cell_type": "code",
   "execution_count": 33,
   "id": "e00bc122",
   "metadata": {},
   "outputs": [
    {
     "data": {
      "text/plain": [
       "0.20510151458991074"
      ]
     },
     "execution_count": 33,
     "metadata": {},
     "output_type": "execute_result"
    }
   ],
   "source": [
    "df1['processor_speed'].skew()"
   ]
  },
  {
   "cell_type": "code",
   "execution_count": 34,
   "id": "d9c664ce",
   "metadata": {},
   "outputs": [
    {
     "data": {
      "text/plain": [
       "<Axes: >"
      ]
     },
     "execution_count": 34,
     "metadata": {},
     "output_type": "execute_result"
    },
    {
     "data": {
      "image/png": "[encoded data removed]",
      "text/plain": [
       "<Figure size 640x480 with 1 Axes>"
      ]
     },
     "metadata": {},
     "output_type": "display_data"
    }
   ],
   "source": [
    "sns.boxplot(df1['processor_speed'])"
   ]
  },
  {
   "cell_type": "code",
   "execution_count": 35,
   "id": "7cbd772d",
   "metadata": {},
   "outputs": [
    {
     "data": {
      "text/plain": [
       "count      942.000000\n",
       "mean      4893.852442\n",
       "std        920.730420\n",
       "min       1900.000000\n",
       "25%       4600.000000\n",
       "50%       5000.000000\n",
       "75%       5000.000000\n",
       "max      21000.000000\n",
       "Name: battery_capacity, dtype: float64"
      ]
     },
     "execution_count": 35,
     "metadata": {},
     "output_type": "execute_result"
    }
   ],
   "source": [
    "#battery\n",
    "df1['battery_capacity'].describe()"
   ]
  },
  {
   "cell_type": "code",
   "execution_count": 36,
   "id": "b6aae37e",
   "metadata": {},
   "outputs": [
    {
     "data": {
      "text/plain": [
       "0"
      ]
     },
     "execution_count": 36,
     "metadata": {},
     "output_type": "execute_result"
    }
   ],
   "source": [
    "df1['battery_capacity'].isnull().sum()"
   ]
  },
  {
   "cell_type": "code",
   "execution_count": 37,
   "id": "02cf25bb",
   "metadata": {},
   "outputs": [
    {
     "data": {
      "text/plain": [
       "<Axes: xlabel='battery_capacity', ylabel='Density'>"
      ]
     },
     "execution_count": 37,
     "metadata": {},
     "output_type": "execute_result"
    },
    {
     "data": {
      "image/png": "[encoded data removed]",
      "text/plain": [
       "<Figure size 640x480 with 1 Axes>"
      ]
     },
     "metadata": {},
     "output_type": "display_data"
    }
   ],
   "source": [
    "sns.kdeplot(x=df1[\"battery_capacity\"])"
   ]
  },
  {
   "cell_type": "code",
   "execution_count": 38,
   "id": "922a3589",
   "metadata": {},
   "outputs": [
    {
     "data": {
      "text/html": [
       "<div>\n",
       "<style scoped>\n",
       "    .dataframe tbody tr th:only-of-type {\n",
       "        vertical-align: middle;\n",
       "    }\n",
       "\n",
       "    .dataframe tbody tr th {\n",
       "        vertical-align: top;\n",
       "    }\n",
       "\n",
       "    .dataframe thead th {\n",
       "        text-align: right;\n",
       "    }\n",
       "</style>\n",
       "<table border=\"1\" class=\"dataframe\">\n",
       "  <thead>\n",
       "    <tr style=\"text-align: right;\">\n",
       "      <th></th>\n",
       "      <th>brand</th>\n",
       "      <th>name</th>\n",
       "      <th>price</th>\n",
       "      <th>rating</th>\n",
       "      <th>has_5g</th>\n",
       "      <th>has_nfc</th>\n",
       "      <th>has_ir_blaster</th>\n",
       "      <th>processor_brand</th>\n",
       "      <th>processor_name</th>\n",
       "      <th>num_cores</th>\n",
       "      <th>processor_speed</th>\n",
       "      <th>Ram (GB)</th>\n",
       "      <th>Rom (GB)</th>\n",
       "      <th>battery_capacity</th>\n",
       "      <th>fast_charging</th>\n",
       "      <th>display_size</th>\n",
       "      <th>display_width</th>\n",
       "      <th>display_height</th>\n",
       "      <th>refresh_rate</th>\n",
       "      <th>num_rare_cameras</th>\n",
       "      <th>num_front_cameras</th>\n",
       "      <th>primary_rare_camera</th>\n",
       "      <th>primary_front_camera</th>\n",
       "      <th>os</th>\n",
       "      <th>extended_memory (GB)</th>\n",
       "    </tr>\n",
       "  </thead>\n",
       "  <tbody>\n",
       "    <tr>\n",
       "      <th>633</th>\n",
       "      <td>oukitel</td>\n",
       "      <td>oukitel wp19</td>\n",
       "      <td>29990</td>\n",
       "      <td>84.0</td>\n",
       "      <td>False</td>\n",
       "      <td>True</td>\n",
       "      <td>False</td>\n",
       "      <td>helio</td>\n",
       "      <td>helio g95</td>\n",
       "      <td>8</td>\n",
       "      <td>2.0</td>\n",
       "      <td>8.0</td>\n",
       "      <td>256.0</td>\n",
       "      <td>21000.0</td>\n",
       "      <td>33.0</td>\n",
       "      <td>6.78</td>\n",
       "      <td>1080.0</td>\n",
       "      <td>2400.0</td>\n",
       "      <td>60.0</td>\n",
       "      <td>3</td>\n",
       "      <td>1</td>\n",
       "      <td>64.0</td>\n",
       "      <td>16.0</td>\n",
       "      <td>android</td>\n",
       "      <td>NaN</td>\n",
       "    </tr>\n",
       "    <tr>\n",
       "      <th>698</th>\n",
       "      <td>oukitel</td>\n",
       "      <td>oukitel wp10 5g</td>\n",
       "      <td>28500</td>\n",
       "      <td>85.0</td>\n",
       "      <td>True</td>\n",
       "      <td>True</td>\n",
       "      <td>False</td>\n",
       "      <td>dimensity</td>\n",
       "      <td>dimensity  800</td>\n",
       "      <td>8</td>\n",
       "      <td>2.0</td>\n",
       "      <td>8.0</td>\n",
       "      <td>128.0</td>\n",
       "      <td>8000.0</td>\n",
       "      <td>18.0</td>\n",
       "      <td>6.67</td>\n",
       "      <td>1080.0</td>\n",
       "      <td>2400.0</td>\n",
       "      <td>60.0</td>\n",
       "      <td>4</td>\n",
       "      <td>1</td>\n",
       "      <td>48.0</td>\n",
       "      <td>16.0</td>\n",
       "      <td>android</td>\n",
       "      <td>NaN</td>\n",
       "    </tr>\n",
       "    <tr>\n",
       "      <th>826</th>\n",
       "      <td>oukitel</td>\n",
       "      <td>oukitel wp15 5g</td>\n",
       "      <td>19990</td>\n",
       "      <td>77.0</td>\n",
       "      <td>True</td>\n",
       "      <td>True</td>\n",
       "      <td>False</td>\n",
       "      <td>dimensity</td>\n",
       "      <td>dimensity 700 5g</td>\n",
       "      <td>8</td>\n",
       "      <td>2.2</td>\n",
       "      <td>8.0</td>\n",
       "      <td>128.0</td>\n",
       "      <td>15600.0</td>\n",
       "      <td>NaN</td>\n",
       "      <td>6.52</td>\n",
       "      <td>720.0</td>\n",
       "      <td>1600.0</td>\n",
       "      <td>60.0</td>\n",
       "      <td>3</td>\n",
       "      <td>1</td>\n",
       "      <td>48.0</td>\n",
       "      <td>8.0</td>\n",
       "      <td>android</td>\n",
       "      <td>NaN</td>\n",
       "    </tr>\n",
       "    <tr>\n",
       "      <th>909</th>\n",
       "      <td>ulefone</td>\n",
       "      <td>ulefone armor 21</td>\n",
       "      <td>16499</td>\n",
       "      <td>85.0</td>\n",
       "      <td>False</td>\n",
       "      <td>True</td>\n",
       "      <td>True</td>\n",
       "      <td>helio</td>\n",
       "      <td>helio g99</td>\n",
       "      <td>8</td>\n",
       "      <td>2.2</td>\n",
       "      <td>8.0</td>\n",
       "      <td>256.0</td>\n",
       "      <td>9600.0</td>\n",
       "      <td>33.0</td>\n",
       "      <td>6.58</td>\n",
       "      <td>1080.0</td>\n",
       "      <td>2408.0</td>\n",
       "      <td>120.0</td>\n",
       "      <td>2</td>\n",
       "      <td>1</td>\n",
       "      <td>64.0</td>\n",
       "      <td>16.0</td>\n",
       "      <td>android</td>\n",
       "      <td>2048.0</td>\n",
       "    </tr>\n",
       "    <tr>\n",
       "      <th>936</th>\n",
       "      <td>oukitel</td>\n",
       "      <td>oukitel wp21</td>\n",
       "      <td>22990</td>\n",
       "      <td>82.0</td>\n",
       "      <td>False</td>\n",
       "      <td>False</td>\n",
       "      <td>False</td>\n",
       "      <td>helio</td>\n",
       "      <td>helio g99</td>\n",
       "      <td>8</td>\n",
       "      <td>2.2</td>\n",
       "      <td>12.0</td>\n",
       "      <td>256.0</td>\n",
       "      <td>9800.0</td>\n",
       "      <td>66.0</td>\n",
       "      <td>6.78</td>\n",
       "      <td>1080.0</td>\n",
       "      <td>2400.0</td>\n",
       "      <td>120.0</td>\n",
       "      <td>3</td>\n",
       "      <td>1</td>\n",
       "      <td>64.0</td>\n",
       "      <td>NaN</td>\n",
       "      <td>Not Specified</td>\n",
       "      <td>NaN</td>\n",
       "    </tr>\n",
       "  </tbody>\n",
       "</table>\n",
       "</div>"
      ],
      "text/plain": [
       "       brand              name  price  rating  has_5g  has_nfc  \\\n",
       "633  oukitel      oukitel wp19  29990    84.0   False     True   \n",
       "698  oukitel   oukitel wp10 5g  28500    85.0    True     True   \n",
       "826  oukitel   oukitel wp15 5g  19990    77.0    True     True   \n",
       "909  ulefone  ulefone armor 21  16499    85.0   False     True   \n",
       "936  oukitel      oukitel wp21  22990    82.0   False    False   \n",
       "\n",
       "     has_ir_blaster processor_brand    processor_name  num_cores  \\\n",
       "633           False           helio         helio g95          8   \n",
       "698           False       dimensity    dimensity  800          8   \n",
       "826           False       dimensity  dimensity 700 5g          8   \n",
       "909            True           helio         helio g99          8   \n",
       "936           False           helio         helio g99          8   \n",
       "\n",
       "     processor_speed  Ram (GB)  Rom (GB)  battery_capacity  fast_charging  \\\n",
       "633              2.0       8.0     256.0           21000.0           33.0   \n",
       "698              2.0       8.0     128.0            8000.0           18.0   \n",
       "826              2.2       8.0     128.0           15600.0            NaN   \n",
       "909              2.2       8.0     256.0            9600.0           33.0   \n",
       "936              2.2      12.0     256.0            9800.0           66.0   \n",
       "\n",
       "     display_size  display_width  display_height  refresh_rate  \\\n",
       "633          6.78         1080.0          2400.0          60.0   \n",
       "698          6.67         1080.0          2400.0          60.0   \n",
       "826          6.52          720.0          1600.0          60.0   \n",
       "909          6.58         1080.0          2408.0         120.0   \n",
       "936          6.78         1080.0          2400.0         120.0   \n",
       "\n",
       "     num_rare_cameras num_front_cameras  primary_rare_camera  \\\n",
       "633                 3                 1                 64.0   \n",
       "698                 4                 1                 48.0   \n",
       "826                 3                 1                 48.0   \n",
       "909                 2                 1                 64.0   \n",
       "936                 3                 1                 64.0   \n",
       "\n",
       "     primary_front_camera             os  extended_memory (GB)  \n",
       "633                  16.0        android                   NaN  \n",
       "698                  16.0        android                   NaN  \n",
       "826                   8.0        android                   NaN  \n",
       "909                  16.0        android                2048.0  \n",
       "936                   NaN  Not Specified                   NaN  "
      ]
     },
     "execution_count": 38,
     "metadata": {},
     "output_type": "execute_result"
    }
   ],
   "source": [
    "df1[df1['battery_capacity'] > 7000]"
   ]
  },
  {
   "cell_type": "code",
   "execution_count": 39,
   "id": "6f495752",
   "metadata": {},
   "outputs": [
    {
     "data": {
      "text/plain": [
       "count    815.000000\n",
       "mean      50.699387\n",
       "std       39.000903\n",
       "min       10.000000\n",
       "25%       25.000000\n",
       "50%       33.000000\n",
       "75%       67.000000\n",
       "max      260.000000\n",
       "Name: fast_charging, dtype: float64"
      ]
     },
     "execution_count": 39,
     "metadata": {},
     "output_type": "execute_result"
    }
   ],
   "source": [
    "df1['fast_charging'].describe()"
   ]
  },
  {
   "cell_type": "code",
   "execution_count": 40,
   "id": "fced5cd4",
   "metadata": {},
   "outputs": [
    {
     "data": {
      "text/plain": [
       "127"
      ]
     },
     "execution_count": 40,
     "metadata": {},
     "output_type": "execute_result"
    }
   ],
   "source": [
    "df1['fast_charging'].isnull().sum()"
   ]
  },
  {
   "cell_type": "code",
   "execution_count": 41,
   "id": "ae8f8194",
   "metadata": {},
   "outputs": [],
   "source": [
    "# filling nan values in fast_charging with -1 as these phones does not provide fast_charging\n",
    "df1['fast_charging'].fillna(-1, inplace=True)"
   ]
  },
  {
   "cell_type": "code",
   "execution_count": 42,
   "id": "0f9af129",
   "metadata": {},
   "outputs": [],
   "source": [
    "def fast_charge(row):\n",
    "    if row[\"fast_charging\"] == -1:\n",
    "        return 0\n",
    "    else:\n",
    "        return 1"
   ]
  },
  {
   "cell_type": "code",
   "execution_count": 43,
   "id": "05fb3d9a",
   "metadata": {},
   "outputs": [],
   "source": [
    "x = df1.apply(fast_charge,axis=1)"
   ]
  },
  {
   "cell_type": "code",
   "execution_count": 44,
   "id": "c4aa26b8",
   "metadata": {},
   "outputs": [],
   "source": [
    "df1.insert(15,\"fast_charging_available\",x)"
   ]
  },
  {
   "cell_type": "code",
   "execution_count": 45,
   "id": "bf8ff7d6",
   "metadata": {},
   "outputs": [],
   "source": [
    "df1['fast_charging'] = df1['fast_charging'].apply(lambda x:np.nan if x == 0 or x == -1 else x)"
   ]
  },
  {
   "cell_type": "code",
   "execution_count": 46,
   "id": "a04b1a6e",
   "metadata": {},
   "outputs": [
    {
     "data": {
      "text/plain": [
       "8.0     379\n",
       "6.0     182\n",
       "4.0     181\n",
       "12.0    124\n",
       "2.0      23\n",
       "16.0     20\n",
       "3.0      19\n",
       "18.0      3\n",
       "1.0       3\n",
       "Name: Ram (GB), dtype: int64"
      ]
     },
     "execution_count": 46,
     "metadata": {},
     "output_type": "execute_result"
    }
   ],
   "source": [
    "#memory\n",
    "df1['Ram (GB)'].value_counts()"
   ]
  },
  {
   "cell_type": "code",
   "execution_count": 47,
   "id": "2d23a996",
   "metadata": {},
   "outputs": [],
   "source": [
    "temp_df = df1[df1['Ram (GB)'].isnull()]"
   ]
  },
  {
   "cell_type": "code",
   "execution_count": 48,
   "id": "038cb67e",
   "metadata": {},
   "outputs": [],
   "source": [
    "df1.loc[temp_df.index , \"Ram (GB)\"] = [12,4,12,2,4,12,8,4]"
   ]
  },
  {
   "cell_type": "code",
   "execution_count": 49,
   "id": "ae08d63b",
   "metadata": {},
   "outputs": [
    {
     "data": {
      "text/plain": [
       "count    942.000000\n",
       "mean       6.589841\n",
       "std        0.361008\n",
       "min        3.030000\n",
       "25%        6.500000\n",
       "50%        6.600000\n",
       "75%        6.710000\n",
       "max        8.030000\n",
       "Name: display_size, dtype: float64"
      ]
     },
     "execution_count": 49,
     "metadata": {},
     "output_type": "execute_result"
    }
   ],
   "source": [
    "# display\n",
    "df1['display_size'].describe()"
   ]
  },
  {
   "cell_type": "code",
   "execution_count": 50,
   "id": "73694e80",
   "metadata": {},
   "outputs": [
    {
     "data": {
      "text/plain": [
       "<Axes: xlabel='display_size', ylabel='Density'>"
      ]
     },
     "execution_count": 50,
     "metadata": {},
     "output_type": "execute_result"
    },
    {
     "data": {
      "image/png": "[encoded data removed]",
      "text/plain": [
       "<Figure size 640x480 with 1 Axes>"
      ]
     },
     "metadata": {},
     "output_type": "display_data"
    }
   ],
   "source": [
    "sns.kdeplot(x=df1[\"display_size\"])"
   ]
  },
  {
   "cell_type": "code",
   "execution_count": 51,
   "id": "0de1a3ac",
   "metadata": {},
   "outputs": [
    {
     "data": {
      "text/plain": [
       "-2.6782799038867218"
      ]
     },
     "execution_count": 51,
     "metadata": {},
     "output_type": "execute_result"
    }
   ],
   "source": [
    "df['display_size'].skew()"
   ]
  },
  {
   "cell_type": "code",
   "execution_count": 52,
   "id": "6d56b76c",
   "metadata": {},
   "outputs": [
    {
     "data": {
      "text/plain": [
       "<Axes: >"
      ]
     },
     "execution_count": 52,
     "metadata": {},
     "output_type": "execute_result"
    },
    {
     "data": {
      "image/png": "[encoded data removed]",
      "text/plain": [
       "<Figure size 640x480 with 1 Axes>"
      ]
     },
     "metadata": {},
     "output_type": "display_data"
    }
   ],
   "source": [
    "sns.boxplot(df1['display_size'])"
   ]
  },
  {
   "cell_type": "code",
   "execution_count": 53,
   "id": "90d4ddd7",
   "metadata": {},
   "outputs": [
    {
     "data": {
      "text/plain": [
       "348"
      ]
     },
     "execution_count": 53,
     "metadata": {},
     "output_type": "execute_result"
    }
   ],
   "source": [
    "df1['extended_memory (GB)'].isnull().sum()"
   ]
  },
  {
   "cell_type": "code",
   "execution_count": 54,
   "id": "d68e9c94",
   "metadata": {},
   "outputs": [],
   "source": [
    "df1['extended_memory (GB)'].fillna(0 , inplace=True)"
   ]
  },
  {
   "cell_type": "code",
   "execution_count": 55,
   "id": "3d1443a3",
   "metadata": {},
   "outputs": [],
   "source": [
    "df1[\"extended_memory_available\"] = df1[\"extended_memory (GB)\"].apply(lambda x:0 if x==0 else 1)"
   ]
  },
  {
   "cell_type": "code",
   "execution_count": 56,
   "id": "85d26f73",
   "metadata": {},
   "outputs": [
    {
     "data": {
      "text/plain": [
       "android             869\n",
       "Not Specified        21\n",
       "ios v16              13\n",
       "ios v15              12\n",
       "flyme 10              3\n",
       "harmonyos v3.1        3\n",
       "ios v13               3\n",
       "ios v14               3\n",
       "ios v13.0             2\n",
       "ios v18               2\n",
       "hongmeng os v4.0      2\n",
       "ios v20               1\n",
       "emui v13              1\n",
       "harmony v2.0          1\n",
       "ios v10               1\n",
       "ios v17               1\n",
       "harmonyos v3          1\n",
       "ios v15.0             1\n",
       "harmonyos v2          1\n",
       "harmonyos             1\n",
       "Name: os, dtype: int64"
      ]
     },
     "execution_count": 56,
     "metadata": {},
     "output_type": "execute_result"
    }
   ],
   "source": [
    "df1[\"os\"].value_counts()"
   ]
  },
  {
   "cell_type": "code",
   "execution_count": 57,
   "id": "220b5417",
   "metadata": {},
   "outputs": [],
   "source": [
    "def os_extractor(text):\n",
    "    if \"android\" in text:\n",
    "        return \"android\"\n",
    "    elif \"ios\" in text:\n",
    "        return \"ios\"\n",
    "    elif \"Not Specified\" in text:\n",
    "        return np.nan\n",
    "    else:\n",
    "        return \"other\""
   ]
  },
  {
   "cell_type": "code",
   "execution_count": 58,
   "id": "0169bf2c",
   "metadata": {},
   "outputs": [],
   "source": [
    "df1['os'] = df1['os'].apply(os_extractor)"
   ]
  },
  {
   "cell_type": "code",
   "execution_count": 59,
   "id": "fe719e22",
   "metadata": {},
   "outputs": [
    {
     "data": {
      "text/plain": [
       "android    869\n",
       "ios         39\n",
       "other       13\n",
       "Name: os, dtype: int64"
      ]
     },
     "execution_count": 59,
     "metadata": {},
     "output_type": "execute_result"
    }
   ],
   "source": [
    "df1[\"os\"].value_counts()"
   ]
  },
  {
   "cell_type": "code",
   "execution_count": 60,
   "id": "b95fa63c",
   "metadata": {},
   "outputs": [
    {
     "data": {
      "text/plain": [
       "0.0       489\n",
       "1024.0    299\n",
       "512.0      88\n",
       "256.0      42\n",
       "2048.0     13\n",
       "128.0       7\n",
       "1000.0      3\n",
       "32.0        1\n",
       "Name: extended_memory (GB), dtype: int64"
      ]
     },
     "execution_count": 60,
     "metadata": {},
     "output_type": "execute_result"
    }
   ],
   "source": [
    "df1[\"extended_memory (GB)\"].value_counts()"
   ]
  },
  {
   "cell_type": "code",
   "execution_count": 61,
   "id": "101b1b41",
   "metadata": {},
   "outputs": [],
   "source": [
    "temp_df = df1[df1[\"extended_memory (GB)\"] == 0]\n"
   ]
  },
  {
   "cell_type": "code",
   "execution_count": 62,
   "id": "58736495",
   "metadata": {},
   "outputs": [],
   "source": [
    "df1.loc[temp_df.index , 'extended_memory (GB)'] = np.nan"
   ]
  },
  {
   "cell_type": "code",
   "execution_count": 63,
   "id": "a66c1930",
   "metadata": {},
   "outputs": [
    {
     "data": {
      "text/plain": [
       "1024.0    299\n",
       "512.0      88\n",
       "256.0      42\n",
       "2048.0     13\n",
       "128.0       7\n",
       "1000.0      3\n",
       "32.0        1\n",
       "Name: extended_memory (GB), dtype: int64"
      ]
     },
     "execution_count": 63,
     "metadata": {},
     "output_type": "execute_result"
    }
   ],
   "source": [
    "df1[\"extended_memory (GB)\"].value_counts()"
   ]
  },
  {
   "cell_type": "code",
   "execution_count": 64,
   "id": "375f48d6",
   "metadata": {},
   "outputs": [],
   "source": [
    "df1.drop(columns=['processor_name'],inplace=True)"
   ]
  },
  {
   "cell_type": "code",
   "execution_count": 65,
   "id": "10d4abfb",
   "metadata": {},
   "outputs": [
    {
     "name": "stdout",
     "output_type": "stream",
     "text": [
      "<class 'pandas.core.frame.DataFrame'>\n",
      "RangeIndex: 942 entries, 0 to 941\n",
      "Data columns (total 26 columns):\n",
      " #   Column                     Non-Null Count  Dtype  \n",
      "---  ------                     --------------  -----  \n",
      " 0   brand                      942 non-null    object \n",
      " 1   name                       942 non-null    object \n",
      " 2   price                      942 non-null    int64  \n",
      " 3   rating                     849 non-null    float64\n",
      " 4   has_5g                     942 non-null    bool   \n",
      " 5   has_nfc                    942 non-null    bool   \n",
      " 6   has_ir_blaster             942 non-null    bool   \n",
      " 7   processor_brand            942 non-null    object \n",
      " 8   num_cores                  942 non-null    int64  \n",
      " 9   processor_speed            866 non-null    float64\n",
      " 10  Ram (GB)                   942 non-null    float64\n",
      " 11  Rom (GB)                   942 non-null    float64\n",
      " 12  battery_capacity           942 non-null    float64\n",
      " 13  fast_charging              815 non-null    float64\n",
      " 14  fast_charging_available    942 non-null    int64  \n",
      " 15  display_size               942 non-null    float64\n",
      " 16  display_width              942 non-null    float64\n",
      " 17  display_height             942 non-null    float64\n",
      " 18  refresh_rate               942 non-null    float64\n",
      " 19  num_rare_cameras           942 non-null    int64  \n",
      " 20  num_front_cameras          942 non-null    object \n",
      " 21  primary_rare_camera        942 non-null    float64\n",
      " 22  primary_front_camera       940 non-null    float64\n",
      " 23  os                         921 non-null    object \n",
      " 24  extended_memory (GB)       453 non-null    float64\n",
      " 25  extended_memory_available  942 non-null    int64  \n",
      "dtypes: bool(3), float64(13), int64(5), object(5)\n",
      "memory usage: 172.2+ KB\n"
     ]
    }
   ],
   "source": [
    "df1.info()"
   ]
  },
  {
   "cell_type": "code",
   "execution_count": 66,
   "id": "7987c0dd",
   "metadata": {},
   "outputs": [
    {
     "data": {
      "text/plain": [
       "brand                          0\n",
       "name                           0\n",
       "price                          0\n",
       "rating                        93\n",
       "has_5g                         0\n",
       "has_nfc                        0\n",
       "has_ir_blaster                 0\n",
       "processor_brand                0\n",
       "num_cores                      0\n",
       "processor_speed               76\n",
       "Ram (GB)                       0\n",
       "Rom (GB)                       0\n",
       "battery_capacity               0\n",
       "fast_charging                127\n",
       "fast_charging_available        0\n",
       "display_size                   0\n",
       "display_width                  0\n",
       "display_height                 0\n",
       "refresh_rate                   0\n",
       "num_rare_cameras               0\n",
       "num_front_cameras              0\n",
       "primary_rare_camera            0\n",
       "primary_front_camera           2\n",
       "os                            21\n",
       "extended_memory (GB)         489\n",
       "extended_memory_available      0\n",
       "dtype: int64"
      ]
     },
     "execution_count": 66,
     "metadata": {},
     "output_type": "execute_result"
    }
   ],
   "source": [
    "df1.isnull().sum()"
   ]
  },
  {
   "cell_type": "code",
   "execution_count": 67,
   "id": "1d08685f",
   "metadata": {},
   "outputs": [
    {
     "name": "stderr",
     "output_type": "stream",
     "text": [
      "C:\\Users\\Vishal Raosaheb Gat\\AppData\\Local\\Temp\\ipykernel_17216\\804291217.py:1: FutureWarning: The default value of numeric_only in DataFrame.corr is deprecated. In a future version, it will default to False. Select only valid columns or specify the value of numeric_only to silence this warning.\n",
      "  df1.corr()['rating']\n"
     ]
    },
    {
     "data": {
      "text/plain": [
       "price                        0.429006\n",
       "rating                       1.000000\n",
       "has_5g                       0.570553\n",
       "has_nfc                      0.476924\n",
       "has_ir_blaster               0.177106\n",
       "num_cores                    0.238237\n",
       "processor_speed              0.626434\n",
       "Ram (GB)                     0.702104\n",
       "Rom (GB)                     0.507667\n",
       "battery_capacity            -0.040799\n",
       "fast_charging                0.458580\n",
       "fast_charging_available      0.338913\n",
       "display_size                 0.276292\n",
       "display_width                0.429446\n",
       "display_height               0.675908\n",
       "refresh_rate                 0.627659\n",
       "num_rare_cameras             0.467572\n",
       "primary_rare_camera          0.463520\n",
       "primary_front_camera         0.559760\n",
       "extended_memory (GB)         0.237436\n",
       "extended_memory_available   -0.340290\n",
       "Name: rating, dtype: float64"
      ]
     },
     "execution_count": 67,
     "metadata": {},
     "output_type": "execute_result"
    }
   ],
   "source": [
    "df1.corr()['rating']"
   ]
  },
  {
   "cell_type": "code",
   "execution_count": 68,
   "id": "e17ecd48",
   "metadata": {},
   "outputs": [
    {
     "data": {
      "text/html": [
       "<div>\n",
       "<style scoped>\n",
       "    .dataframe tbody tr th:only-of-type {\n",
       "        vertical-align: middle;\n",
       "    }\n",
       "\n",
       "    .dataframe tbody tr th {\n",
       "        vertical-align: top;\n",
       "    }\n",
       "\n",
       "    .dataframe thead th {\n",
       "        text-align: right;\n",
       "    }\n",
       "</style>\n",
       "<table border=\"1\" class=\"dataframe\">\n",
       "  <thead>\n",
       "    <tr style=\"text-align: right;\">\n",
       "      <th></th>\n",
       "      <th>brand</th>\n",
       "      <th>name</th>\n",
       "      <th>price</th>\n",
       "      <th>rating</th>\n",
       "      <th>has_5g</th>\n",
       "      <th>has_nfc</th>\n",
       "      <th>has_ir_blaster</th>\n",
       "      <th>processor_brand</th>\n",
       "      <th>num_cores</th>\n",
       "      <th>processor_speed</th>\n",
       "      <th>Ram (GB)</th>\n",
       "      <th>Rom (GB)</th>\n",
       "      <th>battery_capacity</th>\n",
       "      <th>fast_charging</th>\n",
       "      <th>fast_charging_available</th>\n",
       "      <th>display_size</th>\n",
       "      <th>display_width</th>\n",
       "      <th>display_height</th>\n",
       "      <th>refresh_rate</th>\n",
       "      <th>num_rare_cameras</th>\n",
       "      <th>num_front_cameras</th>\n",
       "      <th>primary_rare_camera</th>\n",
       "      <th>primary_front_camera</th>\n",
       "      <th>os</th>\n",
       "      <th>extended_memory (GB)</th>\n",
       "      <th>extended_memory_available</th>\n",
       "    </tr>\n",
       "  </thead>\n",
       "  <tbody>\n",
       "    <tr>\n",
       "      <th>616</th>\n",
       "      <td>xiaomi</td>\n",
       "      <td>xiaomi mi mix alpha</td>\n",
       "      <td>199990</td>\n",
       "      <td>NaN</td>\n",
       "      <td>True</td>\n",
       "      <td>False</td>\n",
       "      <td>False</td>\n",
       "      <td>snapdragon</td>\n",
       "      <td>8</td>\n",
       "      <td>2.96</td>\n",
       "      <td>12.0</td>\n",
       "      <td>512.0</td>\n",
       "      <td>4050.0</td>\n",
       "      <td>40.0</td>\n",
       "      <td>1</td>\n",
       "      <td>7.92</td>\n",
       "      <td>2088.0</td>\n",
       "      <td>2250.0</td>\n",
       "      <td>60.0</td>\n",
       "      <td>3</td>\n",
       "      <td>missing</td>\n",
       "      <td>108.0</td>\n",
       "      <td>NaN</td>\n",
       "      <td>android</td>\n",
       "      <td>NaN</td>\n",
       "      <td>0</td>\n",
       "    </tr>\n",
       "    <tr>\n",
       "      <th>936</th>\n",
       "      <td>oukitel</td>\n",
       "      <td>oukitel wp21</td>\n",
       "      <td>22990</td>\n",
       "      <td>82.0</td>\n",
       "      <td>False</td>\n",
       "      <td>False</td>\n",
       "      <td>False</td>\n",
       "      <td>helio</td>\n",
       "      <td>8</td>\n",
       "      <td>2.20</td>\n",
       "      <td>12.0</td>\n",
       "      <td>256.0</td>\n",
       "      <td>9800.0</td>\n",
       "      <td>66.0</td>\n",
       "      <td>1</td>\n",
       "      <td>6.78</td>\n",
       "      <td>1080.0</td>\n",
       "      <td>2400.0</td>\n",
       "      <td>120.0</td>\n",
       "      <td>3</td>\n",
       "      <td>1</td>\n",
       "      <td>64.0</td>\n",
       "      <td>NaN</td>\n",
       "      <td>NaN</td>\n",
       "      <td>NaN</td>\n",
       "      <td>0</td>\n",
       "    </tr>\n",
       "  </tbody>\n",
       "</table>\n",
       "</div>"
      ],
      "text/plain": [
       "       brand                 name   price  rating  has_5g  has_nfc  \\\n",
       "616   xiaomi  xiaomi mi mix alpha  199990     NaN    True    False   \n",
       "936  oukitel         oukitel wp21   22990    82.0   False    False   \n",
       "\n",
       "     has_ir_blaster processor_brand  num_cores  processor_speed  Ram (GB)  \\\n",
       "616           False      snapdragon          8             2.96      12.0   \n",
       "936           False           helio          8             2.20      12.0   \n",
       "\n",
       "     Rom (GB)  battery_capacity  fast_charging  fast_charging_available  \\\n",
       "616     512.0            4050.0           40.0                        1   \n",
       "936     256.0            9800.0           66.0                        1   \n",
       "\n",
       "     display_size  display_width  display_height  refresh_rate  \\\n",
       "616          7.92         2088.0          2250.0          60.0   \n",
       "936          6.78         1080.0          2400.0         120.0   \n",
       "\n",
       "     num_rare_cameras num_front_cameras  primary_rare_camera  \\\n",
       "616                 3           missing                108.0   \n",
       "936                 3                 1                 64.0   \n",
       "\n",
       "     primary_front_camera       os  extended_memory (GB)  \\\n",
       "616                   NaN  android                   NaN   \n",
       "936                   NaN      NaN                   NaN   \n",
       "\n",
       "     extended_memory_available  \n",
       "616                          0  \n",
       "936                          0  "
      ]
     },
     "execution_count": 68,
     "metadata": {},
     "output_type": "execute_result"
    }
   ],
   "source": [
    "df1[df1.primary_front_camera.isnull()]"
   ]
  },
  {
   "cell_type": "code",
   "execution_count": 69,
   "id": "c8f9e955",
   "metadata": {},
   "outputs": [],
   "source": [
    "df1.loc[[616,936],\"primary_front_camera\"] = [20,16]"
   ]
  },
  {
   "cell_type": "code",
   "execution_count": 70,
   "id": "4c6ba99f",
   "metadata": {},
   "outputs": [],
   "source": [
    "df1.num_front_cameras.replace(\"missing\",np.nan , inplace = True)"
   ]
  },
  {
   "cell_type": "code",
   "execution_count": 71,
   "id": "a8fbf64e",
   "metadata": {},
   "outputs": [],
   "source": [
    "df1.num_front_cameras = df1.num_front_cameras.astype(float)"
   ]
  },
  {
   "cell_type": "code",
   "execution_count": 72,
   "id": "ab9cec1e",
   "metadata": {},
   "outputs": [],
   "source": [
    "df1.to_csv('smartphone_cleaned_v4.csv',index=False)"
   ]
  },
  {
   "cell_type": "code",
   "execution_count": 73,
   "id": "6121f88d",
   "metadata": {},
   "outputs": [
    {
     "name": "stdout",
     "output_type": "stream",
     "text": [
      "<class 'pandas.core.frame.DataFrame'>\n",
      "RangeIndex: 942 entries, 0 to 941\n",
      "Data columns (total 26 columns):\n",
      " #   Column                     Non-Null Count  Dtype  \n",
      "---  ------                     --------------  -----  \n",
      " 0   brand                      942 non-null    object \n",
      " 1   name                       942 non-null    object \n",
      " 2   price                      942 non-null    int64  \n",
      " 3   rating                     849 non-null    float64\n",
      " 4   has_5g                     942 non-null    bool   \n",
      " 5   has_nfc                    942 non-null    bool   \n",
      " 6   has_ir_blaster             942 non-null    bool   \n",
      " 7   processor_brand            942 non-null    object \n",
      " 8   num_cores                  942 non-null    int64  \n",
      " 9   processor_speed            866 non-null    float64\n",
      " 10  Ram (GB)                   942 non-null    float64\n",
      " 11  Rom (GB)                   942 non-null    float64\n",
      " 12  battery_capacity           942 non-null    float64\n",
      " 13  fast_charging              815 non-null    float64\n",
      " 14  fast_charging_available    942 non-null    int64  \n",
      " 15  display_size               942 non-null    float64\n",
      " 16  display_width              942 non-null    float64\n",
      " 17  display_height             942 non-null    float64\n",
      " 18  refresh_rate               942 non-null    float64\n",
      " 19  num_rare_cameras           942 non-null    int64  \n",
      " 20  num_front_cameras          939 non-null    float64\n",
      " 21  primary_rare_camera        942 non-null    float64\n",
      " 22  primary_front_camera       942 non-null    float64\n",
      " 23  os                         921 non-null    object \n",
      " 24  extended_memory (GB)       453 non-null    float64\n",
      " 25  extended_memory_available  942 non-null    int64  \n",
      "dtypes: bool(3), float64(14), int64(5), object(4)\n",
      "memory usage: 172.2+ KB\n"
     ]
    }
   ],
   "source": [
    "df1.info()"
   ]
  },
  {
   "cell_type": "code",
   "execution_count": 74,
   "id": "4aeb0aef",
   "metadata": {},
   "outputs": [
    {
     "data": {
      "text/html": [
       "<div>\n",
       "<style scoped>\n",
       "    .dataframe tbody tr th:only-of-type {\n",
       "        vertical-align: middle;\n",
       "    }\n",
       "\n",
       "    .dataframe tbody tr th {\n",
       "        vertical-align: top;\n",
       "    }\n",
       "\n",
       "    .dataframe thead th {\n",
       "        text-align: right;\n",
       "    }\n",
       "</style>\n",
       "<table border=\"1\" class=\"dataframe\">\n",
       "  <thead>\n",
       "    <tr style=\"text-align: right;\">\n",
       "      <th></th>\n",
       "      <th>brand</th>\n",
       "      <th>name</th>\n",
       "      <th>processor_brand</th>\n",
       "      <th>os</th>\n",
       "    </tr>\n",
       "  </thead>\n",
       "  <tbody>\n",
       "    <tr>\n",
       "      <th>0</th>\n",
       "      <td>xiaomi</td>\n",
       "      <td>xiaomi redmi 12 5g</td>\n",
       "      <td>snapdragon</td>\n",
       "      <td>android</td>\n",
       "    </tr>\n",
       "    <tr>\n",
       "      <th>1</th>\n",
       "      <td>oneplus</td>\n",
       "      <td>oneplus nord ce 3 lite 5g</td>\n",
       "      <td>snapdragon</td>\n",
       "      <td>android</td>\n",
       "    </tr>\n",
       "    <tr>\n",
       "      <th>2</th>\n",
       "      <td>realme</td>\n",
       "      <td>realme c53</td>\n",
       "      <td>tiger</td>\n",
       "      <td>android</td>\n",
       "    </tr>\n",
       "    <tr>\n",
       "      <th>3</th>\n",
       "      <td>vivo</td>\n",
       "      <td>vivo t2x 5g (6gb ram + 128gb)</td>\n",
       "      <td>dimensity</td>\n",
       "      <td>android</td>\n",
       "    </tr>\n",
       "    <tr>\n",
       "      <th>4</th>\n",
       "      <td>infinix</td>\n",
       "      <td>infinix gt 10 pro</td>\n",
       "      <td>dimensity</td>\n",
       "      <td>android</td>\n",
       "    </tr>\n",
       "    <tr>\n",
       "      <th>...</th>\n",
       "      <td>...</td>\n",
       "      <td>...</td>\n",
       "      <td>...</td>\n",
       "      <td>...</td>\n",
       "    </tr>\n",
       "    <tr>\n",
       "      <th>937</th>\n",
       "      <td>xiaomi</td>\n",
       "      <td>xiaomi redmi note 12 explorer</td>\n",
       "      <td>dimensity</td>\n",
       "      <td>android</td>\n",
       "    </tr>\n",
       "    <tr>\n",
       "      <th>938</th>\n",
       "      <td>xiaomi</td>\n",
       "      <td>xiaomi redmi 10a (6gb ram + 128gb)</td>\n",
       "      <td>helio</td>\n",
       "      <td>android</td>\n",
       "    </tr>\n",
       "    <tr>\n",
       "      <th>939</th>\n",
       "      <td>iqoo</td>\n",
       "      <td>iqoo z9 pro</td>\n",
       "      <td>snapdragon</td>\n",
       "      <td>android</td>\n",
       "    </tr>\n",
       "    <tr>\n",
       "      <th>940</th>\n",
       "      <td>huawei</td>\n",
       "      <td>huawei nova 10 se</td>\n",
       "      <td>snapdragon</td>\n",
       "      <td>android</td>\n",
       "    </tr>\n",
       "    <tr>\n",
       "      <th>941</th>\n",
       "      <td>asus</td>\n",
       "      <td>asus rog phone 6d ultimate</td>\n",
       "      <td>dimensity</td>\n",
       "      <td>NaN</td>\n",
       "    </tr>\n",
       "  </tbody>\n",
       "</table>\n",
       "<p>942 rows × 4 columns</p>\n",
       "</div>"
      ],
      "text/plain": [
       "       brand                                name processor_brand       os\n",
       "0     xiaomi                  xiaomi redmi 12 5g      snapdragon  android\n",
       "1    oneplus           oneplus nord ce 3 lite 5g      snapdragon  android\n",
       "2     realme                          realme c53           tiger  android\n",
       "3       vivo       vivo t2x 5g (6gb ram + 128gb)       dimensity  android\n",
       "4    infinix                   infinix gt 10 pro       dimensity  android\n",
       "..       ...                                 ...             ...      ...\n",
       "937   xiaomi       xiaomi redmi note 12 explorer       dimensity  android\n",
       "938   xiaomi  xiaomi redmi 10a (6gb ram + 128gb)           helio  android\n",
       "939     iqoo                         iqoo z9 pro      snapdragon  android\n",
       "940   huawei                   huawei nova 10 se      snapdragon  android\n",
       "941     asus          asus rog phone 6d ultimate       dimensity      NaN\n",
       "\n",
       "[942 rows x 4 columns]"
      ]
     },
     "execution_count": 74,
     "metadata": {},
     "output_type": "execute_result"
    }
   ],
   "source": [
    "df1.select_dtypes(include=['object'])"
   ]
  },
  {
   "cell_type": "code",
   "execution_count": 75,
   "id": "d9fc1c95",
   "metadata": {},
   "outputs": [],
   "source": [
    "df1['brand'] = df1['brand'].astype('category')"
   ]
  },
  {
   "cell_type": "code",
   "execution_count": 77,
   "id": "b09f19db",
   "metadata": {},
   "outputs": [
    {
     "data": {
      "text/html": [
       "<div>\n",
       "<style scoped>\n",
       "    .dataframe tbody tr th:only-of-type {\n",
       "        vertical-align: middle;\n",
       "    }\n",
       "\n",
       "    .dataframe tbody tr th {\n",
       "        vertical-align: top;\n",
       "    }\n",
       "\n",
       "    .dataframe thead th {\n",
       "        text-align: right;\n",
       "    }\n",
       "</style>\n",
       "<table border=\"1\" class=\"dataframe\">\n",
       "  <thead>\n",
       "    <tr style=\"text-align: right;\">\n",
       "      <th></th>\n",
       "      <th>brand</th>\n",
       "      <th>name</th>\n",
       "      <th>price</th>\n",
       "      <th>rating</th>\n",
       "      <th>has_5g</th>\n",
       "      <th>has_nfc</th>\n",
       "      <th>has_ir_blaster</th>\n",
       "      <th>processor_brand</th>\n",
       "      <th>num_cores</th>\n",
       "      <th>processor_speed</th>\n",
       "      <th>Ram (GB)</th>\n",
       "      <th>Rom (GB)</th>\n",
       "      <th>battery_capacity</th>\n",
       "      <th>fast_charging</th>\n",
       "      <th>fast_charging_available</th>\n",
       "      <th>display_size</th>\n",
       "      <th>display_width</th>\n",
       "      <th>display_height</th>\n",
       "      <th>refresh_rate</th>\n",
       "      <th>num_rare_cameras</th>\n",
       "      <th>num_front_cameras</th>\n",
       "      <th>primary_rare_camera</th>\n",
       "      <th>primary_front_camera</th>\n",
       "      <th>os</th>\n",
       "      <th>extended_memory (GB)</th>\n",
       "      <th>extended_memory_available</th>\n",
       "    </tr>\n",
       "  </thead>\n",
       "  <tbody>\n",
       "    <tr>\n",
       "      <th>0</th>\n",
       "      <td>xiaomi</td>\n",
       "      <td>xiaomi redmi 12 5g</td>\n",
       "      <td>11999</td>\n",
       "      <td>75.0</td>\n",
       "      <td>True</td>\n",
       "      <td>False</td>\n",
       "      <td>True</td>\n",
       "      <td>snapdragon</td>\n",
       "      <td>8</td>\n",
       "      <td>2.20</td>\n",
       "      <td>4.0</td>\n",
       "      <td>128.0</td>\n",
       "      <td>5000.0</td>\n",
       "      <td>18.0</td>\n",
       "      <td>1</td>\n",
       "      <td>6.79</td>\n",
       "      <td>1080.0</td>\n",
       "      <td>2460.0</td>\n",
       "      <td>90.0</td>\n",
       "      <td>2</td>\n",
       "      <td>1.0</td>\n",
       "      <td>50.0</td>\n",
       "      <td>8.0</td>\n",
       "      <td>android</td>\n",
       "      <td>1024.0</td>\n",
       "      <td>1</td>\n",
       "    </tr>\n",
       "    <tr>\n",
       "      <th>1</th>\n",
       "      <td>oneplus</td>\n",
       "      <td>oneplus nord ce 3 lite 5g</td>\n",
       "      <td>19999</td>\n",
       "      <td>85.0</td>\n",
       "      <td>True</td>\n",
       "      <td>False</td>\n",
       "      <td>False</td>\n",
       "      <td>snapdragon</td>\n",
       "      <td>8</td>\n",
       "      <td>2.20</td>\n",
       "      <td>8.0</td>\n",
       "      <td>128.0</td>\n",
       "      <td>5000.0</td>\n",
       "      <td>67.0</td>\n",
       "      <td>1</td>\n",
       "      <td>6.72</td>\n",
       "      <td>1080.0</td>\n",
       "      <td>2400.0</td>\n",
       "      <td>120.0</td>\n",
       "      <td>3</td>\n",
       "      <td>1.0</td>\n",
       "      <td>108.0</td>\n",
       "      <td>16.0</td>\n",
       "      <td>android</td>\n",
       "      <td>1024.0</td>\n",
       "      <td>1</td>\n",
       "    </tr>\n",
       "    <tr>\n",
       "      <th>2</th>\n",
       "      <td>realme</td>\n",
       "      <td>realme c53</td>\n",
       "      <td>9999</td>\n",
       "      <td>75.0</td>\n",
       "      <td>False</td>\n",
       "      <td>False</td>\n",
       "      <td>False</td>\n",
       "      <td>tiger</td>\n",
       "      <td>8</td>\n",
       "      <td>1.82</td>\n",
       "      <td>4.0</td>\n",
       "      <td>128.0</td>\n",
       "      <td>5000.0</td>\n",
       "      <td>18.0</td>\n",
       "      <td>1</td>\n",
       "      <td>6.74</td>\n",
       "      <td>1080.0</td>\n",
       "      <td>2400.0</td>\n",
       "      <td>90.0</td>\n",
       "      <td>2</td>\n",
       "      <td>1.0</td>\n",
       "      <td>108.0</td>\n",
       "      <td>8.0</td>\n",
       "      <td>android</td>\n",
       "      <td>2048.0</td>\n",
       "      <td>1</td>\n",
       "    </tr>\n",
       "    <tr>\n",
       "      <th>3</th>\n",
       "      <td>vivo</td>\n",
       "      <td>vivo t2x 5g (6gb ram + 128gb)</td>\n",
       "      <td>13999</td>\n",
       "      <td>78.0</td>\n",
       "      <td>True</td>\n",
       "      <td>False</td>\n",
       "      <td>False</td>\n",
       "      <td>dimensity</td>\n",
       "      <td>8</td>\n",
       "      <td>2.20</td>\n",
       "      <td>6.0</td>\n",
       "      <td>128.0</td>\n",
       "      <td>5000.0</td>\n",
       "      <td>18.0</td>\n",
       "      <td>1</td>\n",
       "      <td>6.58</td>\n",
       "      <td>1080.0</td>\n",
       "      <td>2408.0</td>\n",
       "      <td>60.0</td>\n",
       "      <td>2</td>\n",
       "      <td>1.0</td>\n",
       "      <td>50.0</td>\n",
       "      <td>8.0</td>\n",
       "      <td>android</td>\n",
       "      <td>1024.0</td>\n",
       "      <td>1</td>\n",
       "    </tr>\n",
       "    <tr>\n",
       "      <th>4</th>\n",
       "      <td>infinix</td>\n",
       "      <td>infinix gt 10 pro</td>\n",
       "      <td>26999</td>\n",
       "      <td>88.0</td>\n",
       "      <td>True</td>\n",
       "      <td>False</td>\n",
       "      <td>False</td>\n",
       "      <td>dimensity</td>\n",
       "      <td>8</td>\n",
       "      <td>3.00</td>\n",
       "      <td>8.0</td>\n",
       "      <td>256.0</td>\n",
       "      <td>5000.0</td>\n",
       "      <td>45.0</td>\n",
       "      <td>1</td>\n",
       "      <td>6.67</td>\n",
       "      <td>1080.0</td>\n",
       "      <td>2460.0</td>\n",
       "      <td>120.0</td>\n",
       "      <td>3</td>\n",
       "      <td>1.0</td>\n",
       "      <td>108.0</td>\n",
       "      <td>32.0</td>\n",
       "      <td>android</td>\n",
       "      <td>1024.0</td>\n",
       "      <td>1</td>\n",
       "    </tr>\n",
       "  </tbody>\n",
       "</table>\n",
       "</div>"
      ],
      "text/plain": [
       "     brand                           name  price  rating  has_5g  has_nfc  \\\n",
       "0   xiaomi             xiaomi redmi 12 5g  11999    75.0    True    False   \n",
       "1  oneplus      oneplus nord ce 3 lite 5g  19999    85.0    True    False   \n",
       "2   realme                     realme c53   9999    75.0   False    False   \n",
       "3     vivo  vivo t2x 5g (6gb ram + 128gb)  13999    78.0    True    False   \n",
       "4  infinix              infinix gt 10 pro  26999    88.0    True    False   \n",
       "\n",
       "   has_ir_blaster processor_brand  num_cores  processor_speed  Ram (GB)  \\\n",
       "0            True      snapdragon          8             2.20       4.0   \n",
       "1           False      snapdragon          8             2.20       8.0   \n",
       "2           False           tiger          8             1.82       4.0   \n",
       "3           False       dimensity          8             2.20       6.0   \n",
       "4           False       dimensity          8             3.00       8.0   \n",
       "\n",
       "   Rom (GB)  battery_capacity  fast_charging  fast_charging_available  \\\n",
       "0     128.0            5000.0           18.0                        1   \n",
       "1     128.0            5000.0           67.0                        1   \n",
       "2     128.0            5000.0           18.0                        1   \n",
       "3     128.0            5000.0           18.0                        1   \n",
       "4     256.0            5000.0           45.0                        1   \n",
       "\n",
       "   display_size  display_width  display_height  refresh_rate  \\\n",
       "0          6.79         1080.0          2460.0          90.0   \n",
       "1          6.72         1080.0          2400.0         120.0   \n",
       "2          6.74         1080.0          2400.0          90.0   \n",
       "3          6.58         1080.0          2408.0          60.0   \n",
       "4          6.67         1080.0          2460.0         120.0   \n",
       "\n",
       "   num_rare_cameras  num_front_cameras  primary_rare_camera  \\\n",
       "0                 2                1.0                 50.0   \n",
       "1                 3                1.0                108.0   \n",
       "2                 2                1.0                108.0   \n",
       "3                 2                1.0                 50.0   \n",
       "4                 3                1.0                108.0   \n",
       "\n",
       "   primary_front_camera       os  extended_memory (GB)  \\\n",
       "0                   8.0  android                1024.0   \n",
       "1                  16.0  android                1024.0   \n",
       "2                   8.0  android                2048.0   \n",
       "3                   8.0  android                1024.0   \n",
       "4                  32.0  android                1024.0   \n",
       "\n",
       "   extended_memory_available  \n",
       "0                          1  \n",
       "1                          1  \n",
       "2                          1  \n",
       "3                          1  \n",
       "4                          1  "
      ]
     },
     "execution_count": 77,
     "metadata": {},
     "output_type": "execute_result"
    }
   ],
   "source": [
    "df1.head()"
   ]
  },
  {
   "cell_type": "code",
   "execution_count": null,
   "id": "cfb765ec",
   "metadata": {},
   "outputs": [],
   "source": [
    "df1.to_csv('smartphone_cleaned_v5.csv',index=False)"
   ]
  },
  {
   "cell_type": "code",
   "execution_count": null,
   "id": "1c2d3e23",
   "metadata": {},
   "outputs": [],
   "source": []
  },
  {
   "cell_type": "code",
   "execution_count": null,
   "id": "ebd8adae",
   "metadata": {},
   "outputs": [],
   "source": []
  }
 ],
 "metadata": {
  "kernelspec": {
   "display_name": "Python 3 (ipykernel)",
   "language": "python",
   "name": "python3"
  },
  "language_info": {
   "codemirror_mode": {
    "name": "ipython",
    "version": 3
   },
   "file_extension": ".py",
   "mimetype": "text/x-python",
   "name": "python",
   "nbconvert_exporter": "python",
   "pygments_lexer": "ipython3",
   "version": "3.11.4"
  }
 },
 "nbformat": 4,
 "nbformat_minor": 5
}
